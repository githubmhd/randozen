{
 "cells": [
  {
   "cell_type": "code",
   "execution_count": 35,
   "metadata": {},
   "outputs": [],
   "source": [
    "import pandas as pd\n",
    "from sklearn.neighbors import NearestNeighbors\n",
    "from sklearn.preprocessing import OneHotEncoder\n",
    "from sklearn.pipeline import make_pipeline"
   ]
  },
  {
   "cell_type": "code",
   "execution_count": 2,
   "metadata": {},
   "outputs": [],
   "source": [
    "df_rando = pd.read_csv(\"RandoGironde.csv\")"
   ]
  },
  {
   "cell_type": "code",
   "execution_count": 3,
   "metadata": {},
   "outputs": [],
   "source": [
    "df_rando.drop(columns = \"Unnamed: 0\", inplace = True)"
   ]
  },
  {
   "cell_type": "code",
   "execution_count": 4,
   "metadata": {},
   "outputs": [
    {
     "name": "stdout",
     "output_type": "stream",
     "text": [
      "<class 'pandas.core.frame.DataFrame'>\n",
      "RangeIndex: 200 entries, 0 to 199\n",
      "Data columns (total 7 columns):\n",
      " #   Column      Non-Null Count  Dtype \n",
      "---  ------      --------------  ----- \n",
      " 0   Name        200 non-null    object\n",
      " 1   Town        200 non-null    object\n",
      " 2   Types       199 non-null    object\n",
      " 3   Distance    200 non-null    object\n",
      " 4   Time        199 non-null    object\n",
      " 5   Difficulty  199 non-null    object\n",
      " 6   Image       200 non-null    object\n",
      "dtypes: object(7)\n",
      "memory usage: 11.1+ KB\n"
     ]
    },
    {
     "data": {
      "text/plain": [
       "None"
      ]
     },
     "metadata": {},
     "output_type": "display_data"
    },
    {
     "data": {
      "text/html": [
       "<div>\n",
       "<style scoped>\n",
       "    .dataframe tbody tr th:only-of-type {\n",
       "        vertical-align: middle;\n",
       "    }\n",
       "\n",
       "    .dataframe tbody tr th {\n",
       "        vertical-align: top;\n",
       "    }\n",
       "\n",
       "    .dataframe thead th {\n",
       "        text-align: right;\n",
       "    }\n",
       "</style>\n",
       "<table border=\"1\" class=\"dataframe\">\n",
       "  <thead>\n",
       "    <tr style=\"text-align: right;\">\n",
       "      <th></th>\n",
       "      <th>Name</th>\n",
       "      <th>Town</th>\n",
       "      <th>Types</th>\n",
       "      <th>Distance</th>\n",
       "      <th>Time</th>\n",
       "      <th>Difficulty</th>\n",
       "      <th>Image</th>\n",
       "    </tr>\n",
       "  </thead>\n",
       "  <tbody>\n",
       "    <tr>\n",
       "      <th>count</th>\n",
       "      <td>200</td>\n",
       "      <td>200</td>\n",
       "      <td>199</td>\n",
       "      <td>200</td>\n",
       "      <td>199</td>\n",
       "      <td>199</td>\n",
       "      <td>200</td>\n",
       "    </tr>\n",
       "    <tr>\n",
       "      <th>unique</th>\n",
       "      <td>152</td>\n",
       "      <td>113</td>\n",
       "      <td>2</td>\n",
       "      <td>87</td>\n",
       "      <td>50</td>\n",
       "      <td>4</td>\n",
       "      <td>149</td>\n",
       "    </tr>\n",
       "    <tr>\n",
       "      <th>top</th>\n",
       "      <td>Boucle pédestre : Les Artigues de Lussac en t...</td>\n",
       "      <td>arcachon</td>\n",
       "      <td>à pied</td>\n",
       "      <td>10 km</td>\n",
       "      <td>Durée : 2h</td>\n",
       "      <td>Difficulté : Facile</td>\n",
       "      <td>https://www.gironde-tourisme.com/wp-content/up...</td>\n",
       "    </tr>\n",
       "    <tr>\n",
       "      <th>freq</th>\n",
       "      <td>2</td>\n",
       "      <td>11</td>\n",
       "      <td>198</td>\n",
       "      <td>10</td>\n",
       "      <td>27</td>\n",
       "      <td>105</td>\n",
       "      <td>3</td>\n",
       "    </tr>\n",
       "  </tbody>\n",
       "</table>\n",
       "</div>"
      ],
      "text/plain": [
       "                                                     Name      Town     Types  \\\n",
       "count                                                 200       200       199   \n",
       "unique                                                152       113         2   \n",
       "top      Boucle pédestre : Les Artigues de Lussac en t...  arcachon   à pied    \n",
       "freq                                                    2        11       198   \n",
       "\n",
       "       Distance           Time             Difficulty  \\\n",
       "count       200            199                    199   \n",
       "unique       87             50                      4   \n",
       "top      10 km    Durée : 2h     Difficulté : Facile    \n",
       "freq         10             27                    105   \n",
       "\n",
       "                                                    Image  \n",
       "count                                                 200  \n",
       "unique                                                149  \n",
       "top     https://www.gironde-tourisme.com/wp-content/up...  \n",
       "freq                                                    3  "
      ]
     },
     "metadata": {},
     "output_type": "display_data"
    },
    {
     "data": {
      "text/html": [
       "<div>\n",
       "<style scoped>\n",
       "    .dataframe tbody tr th:only-of-type {\n",
       "        vertical-align: middle;\n",
       "    }\n",
       "\n",
       "    .dataframe tbody tr th {\n",
       "        vertical-align: top;\n",
       "    }\n",
       "\n",
       "    .dataframe thead th {\n",
       "        text-align: right;\n",
       "    }\n",
       "</style>\n",
       "<table border=\"1\" class=\"dataframe\">\n",
       "  <thead>\n",
       "    <tr style=\"text-align: right;\">\n",
       "      <th></th>\n",
       "      <th>Name</th>\n",
       "      <th>Town</th>\n",
       "      <th>Types</th>\n",
       "      <th>Distance</th>\n",
       "      <th>Time</th>\n",
       "      <th>Difficulty</th>\n",
       "      <th>Image</th>\n",
       "    </tr>\n",
       "  </thead>\n",
       "  <tbody>\n",
       "    <tr>\n",
       "      <th>0</th>\n",
       "      <td>Saint-Laurent-du-Plan grande boucle</td>\n",
       "      <td>saint-laurent-du-plan</td>\n",
       "      <td>à pied</td>\n",
       "      <td>8 km</td>\n",
       "      <td>Durée : 1h30</td>\n",
       "      <td>Difficulté : Facile</td>\n",
       "      <td>https://www.gironde-tourisme.com/wp-content/up...</td>\n",
       "    </tr>\n",
       "    <tr>\n",
       "      <th>96</th>\n",
       "      <td>Le sentier du Lac à Maubuisson</td>\n",
       "      <td>carcans-maubuisson</td>\n",
       "      <td>à pied</td>\n",
       "      <td>7 km</td>\n",
       "      <td>Durée : 2h</td>\n",
       "      <td>Difficulté : Facile</td>\n",
       "      <td>https://www.gironde-tourisme.com/wp-content/up...</td>\n",
       "    </tr>\n",
       "    <tr>\n",
       "      <th>146</th>\n",
       "      <td>Boucle pédestre du Lac de Saint-Christoly-de-...</td>\n",
       "      <td>saint-christoly-de-blaye</td>\n",
       "      <td>à pied</td>\n",
       "      <td>9,66 km</td>\n",
       "      <td>Durée : 2h</td>\n",
       "      <td>Difficulté : Très facile</td>\n",
       "      <td>https://www.gironde-tourisme.com/wp-content/up...</td>\n",
       "    </tr>\n",
       "    <tr>\n",
       "      <th>155</th>\n",
       "      <td>Boucle du Bois Bourru à Pellegrue</td>\n",
       "      <td>pellegrue</td>\n",
       "      <td>à pied</td>\n",
       "      <td>15,4 km</td>\n",
       "      <td>Durée : 4h</td>\n",
       "      <td>Difficulté : Moyenne</td>\n",
       "      <td>https://www.gironde-tourisme.com/wp-content/up...</td>\n",
       "    </tr>\n",
       "    <tr>\n",
       "      <th>148</th>\n",
       "      <td>Au Teich, comme un oiseau sur le sentier du l...</td>\n",
       "      <td>le teich</td>\n",
       "      <td>à pied</td>\n",
       "      <td>8 km</td>\n",
       "      <td>Durée : 2h30</td>\n",
       "      <td>Difficulté : Facile</td>\n",
       "      <td>https://www.gironde-tourisme.com/wp-content/up...</td>\n",
       "    </tr>\n",
       "  </tbody>\n",
       "</table>\n",
       "</div>"
      ],
      "text/plain": [
       "                                                  Name  \\\n",
       "0                 Saint-Laurent-du-Plan grande boucle    \n",
       "96                     Le sentier du Lac à Maubuisson    \n",
       "146   Boucle pédestre du Lac de Saint-Christoly-de-...   \n",
       "155                 Boucle du Bois Bourru à Pellegrue    \n",
       "148   Au Teich, comme un oiseau sur le sentier du l...   \n",
       "\n",
       "                         Town     Types   Distance             Time  \\\n",
       "0       saint-laurent-du-plan   à pied       8 km    Durée : 1h30     \n",
       "96         carcans-maubuisson   à pied       7 km      Durée : 2h     \n",
       "146  saint-christoly-de-blaye   à pied    9,66 km      Durée : 2h     \n",
       "155                 pellegrue   à pied    15,4 km      Durée : 4h     \n",
       "148                  le teich   à pied       8 km    Durée : 2h30     \n",
       "\n",
       "                     Difficulty  \\\n",
       "0          Difficulté : Facile    \n",
       "96         Difficulté : Facile    \n",
       "146   Difficulté : Très facile    \n",
       "155       Difficulté : Moyenne    \n",
       "148        Difficulté : Facile    \n",
       "\n",
       "                                                 Image  \n",
       "0    https://www.gironde-tourisme.com/wp-content/up...  \n",
       "96   https://www.gironde-tourisme.com/wp-content/up...  \n",
       "146  https://www.gironde-tourisme.com/wp-content/up...  \n",
       "155  https://www.gironde-tourisme.com/wp-content/up...  \n",
       "148  https://www.gironde-tourisme.com/wp-content/up...  "
      ]
     },
     "metadata": {},
     "output_type": "display_data"
    }
   ],
   "source": [
    "display(df_rando.info(),\n",
    "        df_rando.describe(),\n",
    "        df_rando.sample(5))"
   ]
  },
  {
   "cell_type": "markdown",
   "metadata": {},
   "source": [
    "# Fill NA"
   ]
  },
  {
   "cell_type": "code",
   "execution_count": 5,
   "metadata": {},
   "outputs": [
    {
     "data": {
      "text/html": [
       "<div>\n",
       "<style scoped>\n",
       "    .dataframe tbody tr th:only-of-type {\n",
       "        vertical-align: middle;\n",
       "    }\n",
       "\n",
       "    .dataframe tbody tr th {\n",
       "        vertical-align: top;\n",
       "    }\n",
       "\n",
       "    .dataframe thead th {\n",
       "        text-align: right;\n",
       "    }\n",
       "</style>\n",
       "<table border=\"1\" class=\"dataframe\">\n",
       "  <thead>\n",
       "    <tr style=\"text-align: right;\">\n",
       "      <th></th>\n",
       "      <th>Name</th>\n",
       "      <th>Town</th>\n",
       "      <th>Types</th>\n",
       "      <th>Distance</th>\n",
       "      <th>Time</th>\n",
       "      <th>Difficulty</th>\n",
       "      <th>Image</th>\n",
       "    </tr>\n",
       "  </thead>\n",
       "  <tbody>\n",
       "    <tr>\n",
       "      <th>81</th>\n",
       "      <td>Route pittoresque de la Corniche</td>\n",
       "      <td>gauriac</td>\n",
       "      <td>NaN</td>\n",
       "      <td>10 km</td>\n",
       "      <td>NaN</td>\n",
       "      <td>NaN</td>\n",
       "      <td>https://www.gironde-tourisme.com/wp-content/up...</td>\n",
       "    </tr>\n",
       "  </tbody>\n",
       "</table>\n",
       "</div>"
      ],
      "text/plain": [
       "                                  Name     Town Types Distance Time  \\\n",
       "81   Route pittoresque de la Corniche   gauriac   NaN   10 km   NaN   \n",
       "\n",
       "   Difficulty                                              Image  \n",
       "81        NaN  https://www.gironde-tourisme.com/wp-content/up...  "
      ]
     },
     "execution_count": 5,
     "metadata": {},
     "output_type": "execute_result"
    }
   ],
   "source": [
    "# Fill NA\n",
    "df_rando[df_rando[\"Types\"].isna()]"
   ]
  },
  {
   "cell_type": "code",
   "execution_count": 6,
   "metadata": {},
   "outputs": [
    {
     "name": "stderr",
     "output_type": "stream",
     "text": [
      "C:\\Users\\User\\AppData\\Local\\Temp\\ipykernel_19908\\645246321.py:2: FutureWarning: ChainedAssignmentError: behaviour will change in pandas 3.0!\n",
      "You are setting values through chained assignment. Currently this works in certain cases, but when using Copy-on-Write (which will become the default behaviour in pandas 3.0) this will never work to update the original DataFrame or Series, because the intermediate object on which we are setting values will behave as a copy.\n",
      "A typical example is when you are setting values in a column of a DataFrame, like:\n",
      "\n",
      "df[\"col\"][row_indexer] = value\n",
      "\n",
      "Use `df.loc[row_indexer, \"col\"] = values` instead, to perform the assignment in a single step and ensure this keeps updating the original `df`.\n",
      "\n",
      "See the caveats in the documentation: https://pandas.pydata.org/pandas-docs/stable/user_guide/indexing.html#returning-a-view-versus-a-copy\n",
      "\n",
      "  df_rando[\"Time\"][df_rando[\"Types\"].isna()] = \"Durée : 1h00\"\n",
      "C:\\Users\\User\\AppData\\Local\\Temp\\ipykernel_19908\\645246321.py:3: FutureWarning: ChainedAssignmentError: behaviour will change in pandas 3.0!\n",
      "You are setting values through chained assignment. Currently this works in certain cases, but when using Copy-on-Write (which will become the default behaviour in pandas 3.0) this will never work to update the original DataFrame or Series, because the intermediate object on which we are setting values will behave as a copy.\n",
      "A typical example is when you are setting values in a column of a DataFrame, like:\n",
      "\n",
      "df[\"col\"][row_indexer] = value\n",
      "\n",
      "Use `df.loc[row_indexer, \"col\"] = values` instead, to perform the assignment in a single step and ensure this keeps updating the original `df`.\n",
      "\n",
      "See the caveats in the documentation: https://pandas.pydata.org/pandas-docs/stable/user_guide/indexing.html#returning-a-view-versus-a-copy\n",
      "\n",
      "  df_rando[\"Difficulty\"][df_rando[\"Types\"].isna()] = \"Difficulté : Facile\"\n",
      "C:\\Users\\User\\AppData\\Local\\Temp\\ipykernel_19908\\645246321.py:4: FutureWarning: ChainedAssignmentError: behaviour will change in pandas 3.0!\n",
      "You are setting values through chained assignment. Currently this works in certain cases, but when using Copy-on-Write (which will become the default behaviour in pandas 3.0) this will never work to update the original DataFrame or Series, because the intermediate object on which we are setting values will behave as a copy.\n",
      "A typical example is when you are setting values in a column of a DataFrame, like:\n",
      "\n",
      "df[\"col\"][row_indexer] = value\n",
      "\n",
      "Use `df.loc[row_indexer, \"col\"] = values` instead, to perform the assignment in a single step and ensure this keeps updating the original `df`.\n",
      "\n",
      "See the caveats in the documentation: https://pandas.pydata.org/pandas-docs/stable/user_guide/indexing.html#returning-a-view-versus-a-copy\n",
      "\n",
      "  df_rando[\"Types\"][df_rando[\"Types\"].isna()] = \"à vélo\"\n"
     ]
    }
   ],
   "source": [
    "# Données récupéré depuis google\n",
    "df_rando[\"Time\"][df_rando[\"Types\"].isna()] = \"Durée : 1h00\"\n",
    "df_rando[\"Difficulty\"][df_rando[\"Types\"].isna()] = \"Difficulté : Facile\"\n",
    "df_rando[\"Types\"][df_rando[\"Types\"].isna()] = \"à vélo\""
   ]
  },
  {
   "cell_type": "markdown",
   "metadata": {},
   "source": [
    "# Numerize Distance"
   ]
  },
  {
   "cell_type": "code",
   "execution_count": 7,
   "metadata": {},
   "outputs": [],
   "source": [
    "df_rando[\"Distance\"] =  df_rando[\"Distance\"].apply(lambda x: float(x.replace(\" km\", \"\").replace(\",\", \".\")))"
   ]
  },
  {
   "cell_type": "markdown",
   "metadata": {},
   "source": [
    "# Transform Time in Duration in minutes"
   ]
  },
  {
   "cell_type": "code",
   "execution_count": 8,
   "metadata": {},
   "outputs": [
    {
     "data": {
      "text/plain": [
       "array([' Durée : 1h30  ', ' Durée : 2h  ', ' Durée : 1h15  ',\n",
       "       ' Durée : 2  ', ' Durée : 1h45  ', ' Durée : 3h  ', ' Durée : 3  ',\n",
       "       ' Durée : 6h15  ', ' Durée : 2h10  ', ' Durée : 3H30  ',\n",
       "       ' Durée : 1h  ', ' Durée : 7h  ', ' Durée : 4  ',\n",
       "       ' Durée : 4h00  ', ' Durée : 4h  ', ' Durée : 2 Jours  ',\n",
       "       ' Durée : 1h25  ', ' Durée : 45 mn  ', ' Durée : 1h10  ',\n",
       "       ' Durée : 2h45  ', ' Durée : 5h  ', ' Durée : 30 mn  ',\n",
       "       ' Durée : 2h20  ', ' Durée : 2h30  ', ' Durée : 3h30  ',\n",
       "       ' Durée : 3h15  ', ' Durée : 45 min  ', ' Durée : 3h00  ',\n",
       "       ' Durée : 30mn  ', ' Durée : 4h15  ', ' Durée : 3h45  ',\n",
       "       ' Durée : 4h30  ', ' Durée : 1 jour  ', ' Durée : 7h30  ',\n",
       "       'Durée : 1h00', ' Durée : 1h00  ', ' Durée : 2h15  ',\n",
       "       ' Durée : 1h20  ', ' Durée : 3,30  ', ' Durée : 1h50  ',\n",
       "       ' Durée : 3h45/4h  ', ' Durée : 1H30  ', ' Durée : 4 h  ',\n",
       "       ' Durée : 3h10  ', ' Durée : 45mn  ', ' Durée : 6h30  ',\n",
       "       ' Durée : 6h10  ', ' Durée : 5h00  ', ' Durée : 7h00  ',\n",
       "       ' Durée : 6h  ', ' Durée : 1h40  '], dtype=object)"
      ]
     },
     "execution_count": 8,
     "metadata": {},
     "output_type": "execute_result"
    }
   ],
   "source": [
    "df_rando[\"Time\"].unique()"
   ]
  },
  {
   "cell_type": "code",
   "execution_count": 9,
   "metadata": {},
   "outputs": [
    {
     "data": {
      "text/plain": [
       "array(['1h30', '2h', '1h15', '2', '1h45', '3h', '3', '6h15', '2h10',\n",
       "       '3h30', '1h', '7h', '4', '4h', '48h', '1h25', '45min', '1h10',\n",
       "       '2h45', '5h', '30min', '2h20', '2h30', '3h15', '4h15', '3h45',\n",
       "       '4h30', '24h', '7h30', '2h15', '1h20', '1h50', '3h10', '6h30',\n",
       "       '6h10', '6h', '1h40'], dtype=object)"
      ]
     },
     "execution_count": 9,
     "metadata": {},
     "output_type": "execute_result"
    }
   ],
   "source": [
    "# Virer duree et mettre au même format\n",
    "df_rando[\"Time\"] = df_rando[\"Time\"].apply(lambda x: x.replace(\"Durée : \", \"\").replace(\"mn\", \"min\").replace(\"H\", \"h\").replace(\"  \", \"\").replace(\" \", \"\").replace(\"00\", \"\").replace(\",\", \"h\").replace(\"3h45/4h\", \"4h\").replace(\"1jour\", \"24h\").replace(\"2Jours\", \"48h\"))\n",
    "\n",
    "df_rando[\"Time\"].unique()"
   ]
  },
  {
   "cell_type": "code",
   "execution_count": 10,
   "metadata": {},
   "outputs": [
    {
     "data": {
      "text/html": [
       "<div>\n",
       "<style scoped>\n",
       "    .dataframe tbody tr th:only-of-type {\n",
       "        vertical-align: middle;\n",
       "    }\n",
       "\n",
       "    .dataframe tbody tr th {\n",
       "        vertical-align: top;\n",
       "    }\n",
       "\n",
       "    .dataframe thead th {\n",
       "        text-align: right;\n",
       "    }\n",
       "</style>\n",
       "<table border=\"1\" class=\"dataframe\">\n",
       "  <thead>\n",
       "    <tr style=\"text-align: right;\">\n",
       "      <th></th>\n",
       "      <th>Name</th>\n",
       "      <th>Town</th>\n",
       "      <th>Types</th>\n",
       "      <th>Distance</th>\n",
       "      <th>Time</th>\n",
       "      <th>Difficulty</th>\n",
       "      <th>Image</th>\n",
       "    </tr>\n",
       "  </thead>\n",
       "  <tbody>\n",
       "    <tr>\n",
       "      <th>4</th>\n",
       "      <td>De Sainte-Foy-la-Grande à Port-Sainte-Foy-et-...</td>\n",
       "      <td>sainte-foy-la-grande</td>\n",
       "      <td>à pied</td>\n",
       "      <td>8.0</td>\n",
       "      <td>2</td>\n",
       "      <td>Difficulté : Facile</td>\n",
       "      <td>https://www.gironde-tourisme.com/wp-content/up...</td>\n",
       "    </tr>\n",
       "    <tr>\n",
       "      <th>8</th>\n",
       "      <td>Boucle Haut Val d’Engranne Sud</td>\n",
       "      <td>gornac</td>\n",
       "      <td>à pied</td>\n",
       "      <td>10.2</td>\n",
       "      <td>3</td>\n",
       "      <td>Difficulté : Facile</td>\n",
       "      <td>https://www.gironde-tourisme.com/wp-content/up...</td>\n",
       "    </tr>\n",
       "    <tr>\n",
       "      <th>21</th>\n",
       "      <td>La Sauve-Majeure grande boucle</td>\n",
       "      <td>la sauve</td>\n",
       "      <td>à pied</td>\n",
       "      <td>15.0</td>\n",
       "      <td>4</td>\n",
       "      <td>Difficulté : Facile</td>\n",
       "      <td>https://www.gironde-tourisme.com/wp-content/up...</td>\n",
       "    </tr>\n",
       "    <tr>\n",
       "      <th>113</th>\n",
       "      <td>La Sauve-Majeure grande boucle</td>\n",
       "      <td>la sauve</td>\n",
       "      <td>à pied</td>\n",
       "      <td>15.0</td>\n",
       "      <td>4</td>\n",
       "      <td>Difficulté : Facile</td>\n",
       "      <td>https://www.gironde-tourisme.com/wp-content/up...</td>\n",
       "    </tr>\n",
       "  </tbody>\n",
       "</table>\n",
       "</div>"
      ],
      "text/plain": [
       "                                                  Name                  Town  \\\n",
       "4     De Sainte-Foy-la-Grande à Port-Sainte-Foy-et-...  sainte-foy-la-grande   \n",
       "8                      Boucle Haut Val d’Engranne Sud                 gornac   \n",
       "21                     La Sauve-Majeure grande boucle               la sauve   \n",
       "113                    La Sauve-Majeure grande boucle               la sauve   \n",
       "\n",
       "        Types  Distance Time             Difficulty  \\\n",
       "4     à pied        8.0    2   Difficulté : Facile    \n",
       "8     à pied       10.2    3   Difficulté : Facile    \n",
       "21    à pied       15.0    4   Difficulté : Facile    \n",
       "113   à pied       15.0    4   Difficulté : Facile    \n",
       "\n",
       "                                                 Image  \n",
       "4    https://www.gironde-tourisme.com/wp-content/up...  \n",
       "8    https://www.gironde-tourisme.com/wp-content/up...  \n",
       "21   https://www.gironde-tourisme.com/wp-content/up...  \n",
       "113  https://www.gironde-tourisme.com/wp-content/up...  "
      ]
     },
     "execution_count": 10,
     "metadata": {},
     "output_type": "execute_result"
    }
   ],
   "source": [
    "df_rando[(df_rando[\"Time\"] == \"3\") | (df_rando[\"Time\"] == \"4\") | (df_rando[\"Time\"] == \"2\")]"
   ]
  },
  {
   "cell_type": "code",
   "execution_count": 11,
   "metadata": {},
   "outputs": [
    {
     "name": "stderr",
     "output_type": "stream",
     "text": [
      "C:\\Users\\User\\AppData\\Local\\Temp\\ipykernel_19908\\3758786976.py:2: FutureWarning: ChainedAssignmentError: behaviour will change in pandas 3.0!\n",
      "You are setting values through chained assignment. Currently this works in certain cases, but when using Copy-on-Write (which will become the default behaviour in pandas 3.0) this will never work to update the original DataFrame or Series, because the intermediate object on which we are setting values will behave as a copy.\n",
      "A typical example is when you are setting values in a column of a DataFrame, like:\n",
      "\n",
      "df[\"col\"][row_indexer] = value\n",
      "\n",
      "Use `df.loc[row_indexer, \"col\"] = values` instead, to perform the assignment in a single step and ensure this keeps updating the original `df`.\n",
      "\n",
      "See the caveats in the documentation: https://pandas.pydata.org/pandas-docs/stable/user_guide/indexing.html#returning-a-view-versus-a-copy\n",
      "\n",
      "  df_rando[\"Time\"].iloc[4] = \"2h\"\n",
      "C:\\Users\\User\\AppData\\Local\\Temp\\ipykernel_19908\\3758786976.py:2: SettingWithCopyWarning: \n",
      "A value is trying to be set on a copy of a slice from a DataFrame\n",
      "\n",
      "See the caveats in the documentation: https://pandas.pydata.org/pandas-docs/stable/user_guide/indexing.html#returning-a-view-versus-a-copy\n",
      "  df_rando[\"Time\"].iloc[4] = \"2h\"\n",
      "C:\\Users\\User\\AppData\\Local\\Temp\\ipykernel_19908\\3758786976.py:3: FutureWarning: ChainedAssignmentError: behaviour will change in pandas 3.0!\n",
      "You are setting values through chained assignment. Currently this works in certain cases, but when using Copy-on-Write (which will become the default behaviour in pandas 3.0) this will never work to update the original DataFrame or Series, because the intermediate object on which we are setting values will behave as a copy.\n",
      "A typical example is when you are setting values in a column of a DataFrame, like:\n",
      "\n",
      "df[\"col\"][row_indexer] = value\n",
      "\n",
      "Use `df.loc[row_indexer, \"col\"] = values` instead, to perform the assignment in a single step and ensure this keeps updating the original `df`.\n",
      "\n",
      "See the caveats in the documentation: https://pandas.pydata.org/pandas-docs/stable/user_guide/indexing.html#returning-a-view-versus-a-copy\n",
      "\n",
      "  df_rando[\"Time\"].iloc[8] = \"3h\"\n",
      "C:\\Users\\User\\AppData\\Local\\Temp\\ipykernel_19908\\3758786976.py:3: SettingWithCopyWarning: \n",
      "A value is trying to be set on a copy of a slice from a DataFrame\n",
      "\n",
      "See the caveats in the documentation: https://pandas.pydata.org/pandas-docs/stable/user_guide/indexing.html#returning-a-view-versus-a-copy\n",
      "  df_rando[\"Time\"].iloc[8] = \"3h\"\n",
      "C:\\Users\\User\\AppData\\Local\\Temp\\ipykernel_19908\\3758786976.py:4: FutureWarning: ChainedAssignmentError: behaviour will change in pandas 3.0!\n",
      "You are setting values through chained assignment. Currently this works in certain cases, but when using Copy-on-Write (which will become the default behaviour in pandas 3.0) this will never work to update the original DataFrame or Series, because the intermediate object on which we are setting values will behave as a copy.\n",
      "A typical example is when you are setting values in a column of a DataFrame, like:\n",
      "\n",
      "df[\"col\"][row_indexer] = value\n",
      "\n",
      "Use `df.loc[row_indexer, \"col\"] = values` instead, to perform the assignment in a single step and ensure this keeps updating the original `df`.\n",
      "\n",
      "See the caveats in the documentation: https://pandas.pydata.org/pandas-docs/stable/user_guide/indexing.html#returning-a-view-versus-a-copy\n",
      "\n",
      "  df_rando[\"Time\"].iloc[21] = \"4h\"\n",
      "C:\\Users\\User\\AppData\\Local\\Temp\\ipykernel_19908\\3758786976.py:4: SettingWithCopyWarning: \n",
      "A value is trying to be set on a copy of a slice from a DataFrame\n",
      "\n",
      "See the caveats in the documentation: https://pandas.pydata.org/pandas-docs/stable/user_guide/indexing.html#returning-a-view-versus-a-copy\n",
      "  df_rando[\"Time\"].iloc[21] = \"4h\"\n",
      "C:\\Users\\User\\AppData\\Local\\Temp\\ipykernel_19908\\3758786976.py:5: FutureWarning: ChainedAssignmentError: behaviour will change in pandas 3.0!\n",
      "You are setting values through chained assignment. Currently this works in certain cases, but when using Copy-on-Write (which will become the default behaviour in pandas 3.0) this will never work to update the original DataFrame or Series, because the intermediate object on which we are setting values will behave as a copy.\n",
      "A typical example is when you are setting values in a column of a DataFrame, like:\n",
      "\n",
      "df[\"col\"][row_indexer] = value\n",
      "\n",
      "Use `df.loc[row_indexer, \"col\"] = values` instead, to perform the assignment in a single step and ensure this keeps updating the original `df`.\n",
      "\n",
      "See the caveats in the documentation: https://pandas.pydata.org/pandas-docs/stable/user_guide/indexing.html#returning-a-view-versus-a-copy\n",
      "\n",
      "  df_rando[\"Time\"].iloc[113] = \"4h\"\n",
      "C:\\Users\\User\\AppData\\Local\\Temp\\ipykernel_19908\\3758786976.py:5: SettingWithCopyWarning: \n",
      "A value is trying to be set on a copy of a slice from a DataFrame\n",
      "\n",
      "See the caveats in the documentation: https://pandas.pydata.org/pandas-docs/stable/user_guide/indexing.html#returning-a-view-versus-a-copy\n",
      "  df_rando[\"Time\"].iloc[113] = \"4h\"\n"
     ]
    }
   ],
   "source": [
    "# Correction des temps incohérents\n",
    "df_rando[\"Time\"].iloc[4] = \"2h\"\n",
    "df_rando[\"Time\"].iloc[8] = \"3h\"\n",
    "df_rando[\"Time\"].iloc[21] = \"4h\"\n",
    "df_rando[\"Time\"].iloc[113] = \"4h\""
   ]
  },
  {
   "cell_type": "code",
   "execution_count": 12,
   "metadata": {},
   "outputs": [
    {
     "data": {
      "text/plain": [
       "array(['1h30', '2h', '1h15', '1h45', '3h', '6h15', '2h10', '3h30', '1h',\n",
       "       '7h', '4h', '48h', '1h25', '45min', '1h10', '2h45', '5h', '30min',\n",
       "       '2h20', '2h30', '3h15', '4h15', '3h45', '4h30', '24h', '7h30',\n",
       "       '2h15', '1h20', '1h50', '3h10', '6h30', '6h10', '6h', '1h40'],\n",
       "      dtype=object)"
      ]
     },
     "execution_count": 12,
     "metadata": {},
     "output_type": "execute_result"
    }
   ],
   "source": [
    "df_rando[\"Time\"].unique()"
   ]
  },
  {
   "cell_type": "code",
   "execution_count": 13,
   "metadata": {},
   "outputs": [
    {
     "data": {
      "text/plain": [
       "Time\n",
       "2h       28\n",
       "3h       25\n",
       "1h30     19\n",
       "2h30     17\n",
       "1h       16\n",
       "4h       13\n",
       "3h30     11\n",
       "1h45      9\n",
       "45min     7\n",
       "30min     6\n",
       "1h15      6\n",
       "5h        5\n",
       "7h        3\n",
       "3h15      3\n",
       "1h50      3\n",
       "1h10      3\n",
       "2h45      3\n",
       "7h30      2\n",
       "24h       2\n",
       "4h30      2\n",
       "3h45      2\n",
       "6h15      2\n",
       "2h10      2\n",
       "4h15      1\n",
       "48h       1\n",
       "2h20      1\n",
       "2h15      1\n",
       "1h20      1\n",
       "1h25      1\n",
       "3h10      1\n",
       "6h30      1\n",
       "6h10      1\n",
       "6h        1\n",
       "1h40      1\n",
       "Name: count, dtype: int64"
      ]
     },
     "execution_count": 13,
     "metadata": {},
     "output_type": "execute_result"
    }
   ],
   "source": [
    "df_rando[\"Time\"].value_counts()"
   ]
  },
  {
   "cell_type": "code",
   "execution_count": 14,
   "metadata": {},
   "outputs": [
    {
     "data": {
      "text/plain": [
       "True"
      ]
     },
     "execution_count": 14,
     "metadata": {},
     "output_type": "execute_result"
    }
   ],
   "source": [
    "\"1h10\" < \"1h30\""
   ]
  },
  {
   "cell_type": "code",
   "execution_count": 15,
   "metadata": {},
   "outputs": [],
   "source": [
    "def dur(time):\n",
    "    \n",
    "    Duration = [{\"1h\": \"<= 1h\"}, {\"2h\": \"<= 2h\"}, {\"3h\": \"<= 3h\"}, {\"5h\": \"<= 5h\"}, {\"8h\": \"<= 8h\"}, {\"48h\": \"> 8h\"}]\n",
    "    \n",
    "    if time == \"30min\" or time == \"45min\":\n",
    "        return \"<= 1h\"\n",
    "    else:\n",
    "        for ele in range(len(Duration)):\n",
    "            if time <= [key for key in Duration[ele]][0]:\n",
    "                return [val for val in Duration[ele].values()][0]"
   ]
  },
  {
   "cell_type": "code",
   "execution_count": 16,
   "metadata": {},
   "outputs": [],
   "source": [
    "df_rando[\"Duration\"] = df_rando[\"Time\"].apply(lambda x: dur(x))"
   ]
  },
  {
   "cell_type": "code",
   "execution_count": 17,
   "metadata": {},
   "outputs": [
    {
     "data": {
      "text/plain": [
       "Duration\n",
       "<= 2h    73\n",
       "<= 3h    49\n",
       "<= 5h    39\n",
       "<= 1h    29\n",
       "<= 8h    10\n",
       "Name: count, dtype: int64"
      ]
     },
     "execution_count": 17,
     "metadata": {},
     "output_type": "execute_result"
    }
   ],
   "source": [
    "df_rando[\"Duration\"].value_counts()"
   ]
  },
  {
   "cell_type": "code",
   "execution_count": 18,
   "metadata": {},
   "outputs": [
    {
     "data": {
      "text/html": [
       "<div>\n",
       "<style scoped>\n",
       "    .dataframe tbody tr th:only-of-type {\n",
       "        vertical-align: middle;\n",
       "    }\n",
       "\n",
       "    .dataframe tbody tr th {\n",
       "        vertical-align: top;\n",
       "    }\n",
       "\n",
       "    .dataframe thead th {\n",
       "        text-align: right;\n",
       "    }\n",
       "</style>\n",
       "<table border=\"1\" class=\"dataframe\">\n",
       "  <thead>\n",
       "    <tr style=\"text-align: right;\">\n",
       "      <th></th>\n",
       "      <th>Name</th>\n",
       "      <th>Town</th>\n",
       "      <th>Types</th>\n",
       "      <th>Distance</th>\n",
       "      <th>Time</th>\n",
       "      <th>Difficulty</th>\n",
       "      <th>Image</th>\n",
       "      <th>Duration</th>\n",
       "    </tr>\n",
       "  </thead>\n",
       "  <tbody>\n",
       "    <tr>\n",
       "      <th>25</th>\n",
       "      <td>Chemin de Saint-Jacques-Compostelle par la Ch...</td>\n",
       "      <td>le verdon-sur-mer</td>\n",
       "      <td>à pied</td>\n",
       "      <td>96.0</td>\n",
       "      <td>48h</td>\n",
       "      <td>Difficulté : Moyenne</td>\n",
       "      <td>https://www.gironde-tourisme.com/wp-content/up...</td>\n",
       "      <td>&lt;= 5h</td>\n",
       "    </tr>\n",
       "    <tr>\n",
       "      <th>74</th>\n",
       "      <td>Urban Wine Trail</td>\n",
       "      <td>bordeaux</td>\n",
       "      <td>à pied</td>\n",
       "      <td>25.0</td>\n",
       "      <td>24h</td>\n",
       "      <td>Difficulté : Facile</td>\n",
       "      <td>https://www.gironde-tourisme.com/wp-content/up...</td>\n",
       "      <td>&lt;= 2h</td>\n",
       "    </tr>\n",
       "    <tr>\n",
       "      <th>193</th>\n",
       "      <td>Urban Wine Trail</td>\n",
       "      <td>bordeaux</td>\n",
       "      <td>à pied</td>\n",
       "      <td>25.0</td>\n",
       "      <td>24h</td>\n",
       "      <td>Difficulté : Facile</td>\n",
       "      <td>https://www.gironde-tourisme.com/wp-content/up...</td>\n",
       "      <td>&lt;= 2h</td>\n",
       "    </tr>\n",
       "  </tbody>\n",
       "</table>\n",
       "</div>"
      ],
      "text/plain": [
       "                                                  Name               Town  \\\n",
       "25    Chemin de Saint-Jacques-Compostelle par la Ch...  le verdon-sur-mer   \n",
       "74                                   Urban Wine Trail            bordeaux   \n",
       "193                                  Urban Wine Trail            bordeaux   \n",
       "\n",
       "        Types  Distance Time              Difficulty  \\\n",
       "25    à pied       96.0  48h   Difficulté : Moyenne    \n",
       "74    à pied       25.0  24h    Difficulté : Facile    \n",
       "193   à pied       25.0  24h    Difficulté : Facile    \n",
       "\n",
       "                                                 Image Duration  \n",
       "25   https://www.gironde-tourisme.com/wp-content/up...    <= 5h  \n",
       "74   https://www.gironde-tourisme.com/wp-content/up...    <= 2h  \n",
       "193  https://www.gironde-tourisme.com/wp-content/up...    <= 2h  "
      ]
     },
     "execution_count": 18,
     "metadata": {},
     "output_type": "execute_result"
    }
   ],
   "source": [
    "df_rando[(df_rando[\"Time\"] == \"24h\") | (df_rando[\"Time\"] == \"48h\")]"
   ]
  },
  {
   "cell_type": "code",
   "execution_count": 19,
   "metadata": {},
   "outputs": [
    {
     "name": "stderr",
     "output_type": "stream",
     "text": [
      "C:\\Users\\User\\AppData\\Local\\Temp\\ipykernel_19908\\973722224.py:1: FutureWarning: ChainedAssignmentError: behaviour will change in pandas 3.0!\n",
      "You are setting values through chained assignment. Currently this works in certain cases, but when using Copy-on-Write (which will become the default behaviour in pandas 3.0) this will never work to update the original DataFrame or Series, because the intermediate object on which we are setting values will behave as a copy.\n",
      "A typical example is when you are setting values in a column of a DataFrame, like:\n",
      "\n",
      "df[\"col\"][row_indexer] = value\n",
      "\n",
      "Use `df.loc[row_indexer, \"col\"] = values` instead, to perform the assignment in a single step and ensure this keeps updating the original `df`.\n",
      "\n",
      "See the caveats in the documentation: https://pandas.pydata.org/pandas-docs/stable/user_guide/indexing.html#returning-a-view-versus-a-copy\n",
      "\n",
      "  df_rando['Duration'].iloc[25] = \"> 8h\"\n",
      "C:\\Users\\User\\AppData\\Local\\Temp\\ipykernel_19908\\973722224.py:1: SettingWithCopyWarning: \n",
      "A value is trying to be set on a copy of a slice from a DataFrame\n",
      "\n",
      "See the caveats in the documentation: https://pandas.pydata.org/pandas-docs/stable/user_guide/indexing.html#returning-a-view-versus-a-copy\n",
      "  df_rando['Duration'].iloc[25] = \"> 8h\"\n",
      "C:\\Users\\User\\AppData\\Local\\Temp\\ipykernel_19908\\973722224.py:2: FutureWarning: ChainedAssignmentError: behaviour will change in pandas 3.0!\n",
      "You are setting values through chained assignment. Currently this works in certain cases, but when using Copy-on-Write (which will become the default behaviour in pandas 3.0) this will never work to update the original DataFrame or Series, because the intermediate object on which we are setting values will behave as a copy.\n",
      "A typical example is when you are setting values in a column of a DataFrame, like:\n",
      "\n",
      "df[\"col\"][row_indexer] = value\n",
      "\n",
      "Use `df.loc[row_indexer, \"col\"] = values` instead, to perform the assignment in a single step and ensure this keeps updating the original `df`.\n",
      "\n",
      "See the caveats in the documentation: https://pandas.pydata.org/pandas-docs/stable/user_guide/indexing.html#returning-a-view-versus-a-copy\n",
      "\n",
      "  df_rando['Duration'].iloc[74] = \"> 8h\"\n",
      "C:\\Users\\User\\AppData\\Local\\Temp\\ipykernel_19908\\973722224.py:2: SettingWithCopyWarning: \n",
      "A value is trying to be set on a copy of a slice from a DataFrame\n",
      "\n",
      "See the caveats in the documentation: https://pandas.pydata.org/pandas-docs/stable/user_guide/indexing.html#returning-a-view-versus-a-copy\n",
      "  df_rando['Duration'].iloc[74] = \"> 8h\"\n",
      "C:\\Users\\User\\AppData\\Local\\Temp\\ipykernel_19908\\973722224.py:3: FutureWarning: ChainedAssignmentError: behaviour will change in pandas 3.0!\n",
      "You are setting values through chained assignment. Currently this works in certain cases, but when using Copy-on-Write (which will become the default behaviour in pandas 3.0) this will never work to update the original DataFrame or Series, because the intermediate object on which we are setting values will behave as a copy.\n",
      "A typical example is when you are setting values in a column of a DataFrame, like:\n",
      "\n",
      "df[\"col\"][row_indexer] = value\n",
      "\n",
      "Use `df.loc[row_indexer, \"col\"] = values` instead, to perform the assignment in a single step and ensure this keeps updating the original `df`.\n",
      "\n",
      "See the caveats in the documentation: https://pandas.pydata.org/pandas-docs/stable/user_guide/indexing.html#returning-a-view-versus-a-copy\n",
      "\n",
      "  df_rando['Duration'].iloc[193] = \"> 8h\"\n",
      "C:\\Users\\User\\AppData\\Local\\Temp\\ipykernel_19908\\973722224.py:3: SettingWithCopyWarning: \n",
      "A value is trying to be set on a copy of a slice from a DataFrame\n",
      "\n",
      "See the caveats in the documentation: https://pandas.pydata.org/pandas-docs/stable/user_guide/indexing.html#returning-a-view-versus-a-copy\n",
      "  df_rando['Duration'].iloc[193] = \"> 8h\"\n"
     ]
    }
   ],
   "source": [
    "df_rando['Duration'].iloc[25] = \"> 8h\"\n",
    "df_rando['Duration'].iloc[74] = \"> 8h\"\n",
    "df_rando['Duration'].iloc[193] = \"> 8h\""
   ]
  },
  {
   "cell_type": "code",
   "execution_count": 20,
   "metadata": {},
   "outputs": [],
   "source": [
    "df_rando[\"Difficulty\"] = df_rando[\"Difficulty\"].apply(lambda x: x.replace(\" Difficulté : \", \"\").replace(\"Difficulté : \", \"\"))"
   ]
  },
  {
   "cell_type": "code",
   "execution_count": 30,
   "metadata": {},
   "outputs": [
    {
     "data": {
      "text/plain": [
       "Difficulty\n",
       "Facile          106\n",
       "Moyenne          52\n",
       "Très facile      35\n",
       "Difficile         7\n",
       "Name: count, dtype: int64"
      ]
     },
     "execution_count": 30,
     "metadata": {},
     "output_type": "execute_result"
    }
   ],
   "source": [
    "df_rando[\"Difficulty\"].value_counts()"
   ]
  },
  {
   "cell_type": "code",
   "execution_count": 29,
   "metadata": {},
   "outputs": [],
   "source": [
    "df_rando[\"Difficulty\"] = df_rando[\"Difficulty\"].apply(lambda x: x.replace(\"Moyenne \", \"Moyenne\").replace(\"Très Facile \", \"Très Facile\").replace(\"Facile \", \"Facile\").replace(\"Difficile \", \"Difficile\"))"
   ]
  },
  {
   "cell_type": "code",
   "execution_count": 32,
   "metadata": {},
   "outputs": [
    {
     "name": "stdout",
     "output_type": "stream",
     "text": [
      "<class 'pandas.core.frame.DataFrame'>\n",
      "RangeIndex: 200 entries, 0 to 199\n",
      "Data columns (total 9 columns):\n",
      " #   Column      Non-Null Count  Dtype  \n",
      "---  ------      --------------  -----  \n",
      " 0   Name        200 non-null    object \n",
      " 1   Town        200 non-null    object \n",
      " 2   Types       200 non-null    object \n",
      " 3   Distance    200 non-null    float64\n",
      " 4   Time        200 non-null    object \n",
      " 5   Difficulty  200 non-null    object \n",
      " 6   Image       200 non-null    object \n",
      " 7   Duration    200 non-null    object \n",
      " 8   Range       200 non-null    object \n",
      "dtypes: float64(1), object(8)\n",
      "memory usage: 14.2+ KB\n"
     ]
    },
    {
     "data": {
      "text/plain": [
       "None"
      ]
     },
     "metadata": {},
     "output_type": "display_data"
    },
    {
     "data": {
      "text/html": [
       "<div>\n",
       "<style scoped>\n",
       "    .dataframe tbody tr th:only-of-type {\n",
       "        vertical-align: middle;\n",
       "    }\n",
       "\n",
       "    .dataframe tbody tr th {\n",
       "        vertical-align: top;\n",
       "    }\n",
       "\n",
       "    .dataframe thead th {\n",
       "        text-align: right;\n",
       "    }\n",
       "</style>\n",
       "<table border=\"1\" class=\"dataframe\">\n",
       "  <thead>\n",
       "    <tr style=\"text-align: right;\">\n",
       "      <th></th>\n",
       "      <th>Distance</th>\n",
       "    </tr>\n",
       "  </thead>\n",
       "  <tbody>\n",
       "    <tr>\n",
       "      <th>count</th>\n",
       "      <td>200.000000</td>\n",
       "    </tr>\n",
       "    <tr>\n",
       "      <th>mean</th>\n",
       "      <td>10.103800</td>\n",
       "    </tr>\n",
       "    <tr>\n",
       "      <th>std</th>\n",
       "      <td>8.573147</td>\n",
       "    </tr>\n",
       "    <tr>\n",
       "      <th>min</th>\n",
       "      <td>0.600000</td>\n",
       "    </tr>\n",
       "    <tr>\n",
       "      <th>25%</th>\n",
       "      <td>5.675000</td>\n",
       "    </tr>\n",
       "    <tr>\n",
       "      <th>50%</th>\n",
       "      <td>9.000000</td>\n",
       "    </tr>\n",
       "    <tr>\n",
       "      <th>75%</th>\n",
       "      <td>12.300000</td>\n",
       "    </tr>\n",
       "    <tr>\n",
       "      <th>max</th>\n",
       "      <td>96.000000</td>\n",
       "    </tr>\n",
       "  </tbody>\n",
       "</table>\n",
       "</div>"
      ],
      "text/plain": [
       "         Distance\n",
       "count  200.000000\n",
       "mean    10.103800\n",
       "std      8.573147\n",
       "min      0.600000\n",
       "25%      5.675000\n",
       "50%      9.000000\n",
       "75%     12.300000\n",
       "max     96.000000"
      ]
     },
     "metadata": {},
     "output_type": "display_data"
    },
    {
     "data": {
      "text/html": [
       "<div>\n",
       "<style scoped>\n",
       "    .dataframe tbody tr th:only-of-type {\n",
       "        vertical-align: middle;\n",
       "    }\n",
       "\n",
       "    .dataframe tbody tr th {\n",
       "        vertical-align: top;\n",
       "    }\n",
       "\n",
       "    .dataframe thead th {\n",
       "        text-align: right;\n",
       "    }\n",
       "</style>\n",
       "<table border=\"1\" class=\"dataframe\">\n",
       "  <thead>\n",
       "    <tr style=\"text-align: right;\">\n",
       "      <th></th>\n",
       "      <th>Name</th>\n",
       "      <th>Town</th>\n",
       "      <th>Types</th>\n",
       "      <th>Distance</th>\n",
       "      <th>Time</th>\n",
       "      <th>Difficulty</th>\n",
       "      <th>Image</th>\n",
       "      <th>Duration</th>\n",
       "      <th>Range</th>\n",
       "    </tr>\n",
       "  </thead>\n",
       "  <tbody>\n",
       "    <tr>\n",
       "      <th>95</th>\n",
       "      <td>Les secrets de la petite Amazone</td>\n",
       "      <td>le teich</td>\n",
       "      <td>à pied</td>\n",
       "      <td>10.0</td>\n",
       "      <td>3h</td>\n",
       "      <td>Très facile</td>\n",
       "      <td>https://www.gironde-tourisme.com/wp-content/up...</td>\n",
       "      <td>&lt;= 3h</td>\n",
       "      <td>&lt;= 10km</td>\n",
       "    </tr>\n",
       "    <tr>\n",
       "      <th>12</th>\n",
       "      <td>Chemin d’Amadour : étape 1 de Soulac-sur-Mer ...</td>\n",
       "      <td>soulac-sur-mer</td>\n",
       "      <td>à pied</td>\n",
       "      <td>25.5</td>\n",
       "      <td>6h15</td>\n",
       "      <td>Moyenne</td>\n",
       "      <td>https://www.gironde-tourisme.com/wp-content/up...</td>\n",
       "      <td>&lt;= 8h</td>\n",
       "      <td>&gt; 15km</td>\n",
       "    </tr>\n",
       "    <tr>\n",
       "      <th>65</th>\n",
       "      <td>Boucle pédestre : A la croisée des appellations</td>\n",
       "      <td>saint-christophe-des-bardes</td>\n",
       "      <td>à pied</td>\n",
       "      <td>11.1</td>\n",
       "      <td>2h30</td>\n",
       "      <td>Moyenne</td>\n",
       "      <td>https://www.gironde-tourisme.com/wp-content/up...</td>\n",
       "      <td>&lt;= 3h</td>\n",
       "      <td>&lt;= 15km</td>\n",
       "    </tr>\n",
       "    <tr>\n",
       "      <th>175</th>\n",
       "      <td>Boucle de la Bassanne</td>\n",
       "      <td>savignac</td>\n",
       "      <td>à pied</td>\n",
       "      <td>11.0</td>\n",
       "      <td>2h45</td>\n",
       "      <td>Facile</td>\n",
       "      <td>https://www.gironde-tourisme.com/wp-content/up...</td>\n",
       "      <td>&lt;= 3h</td>\n",
       "      <td>&lt;= 15km</td>\n",
       "    </tr>\n",
       "    <tr>\n",
       "      <th>18</th>\n",
       "      <td>Village de Verdelais</td>\n",
       "      <td>verdelais</td>\n",
       "      <td>à pied</td>\n",
       "      <td>3.5</td>\n",
       "      <td>1h</td>\n",
       "      <td>Facile</td>\n",
       "      <td>https://www.gironde-tourisme.com/wp-content/up...</td>\n",
       "      <td>&lt;= 1h</td>\n",
       "      <td>&lt;= 6km</td>\n",
       "    </tr>\n",
       "  </tbody>\n",
       "</table>\n",
       "</div>"
      ],
      "text/plain": [
       "                                                  Name  \\\n",
       "95                   Les secrets de la petite Amazone    \n",
       "12    Chemin d’Amadour : étape 1 de Soulac-sur-Mer ...   \n",
       "65    Boucle pédestre : A la croisée des appellations    \n",
       "175                             Boucle de la Bassanne    \n",
       "18                               Village de Verdelais    \n",
       "\n",
       "                            Town     Types  Distance  Time    Difficulty  \\\n",
       "95                      le teich   à pied       10.0    3h  Très facile    \n",
       "12                soulac-sur-mer   à pied       25.5  6h15       Moyenne   \n",
       "65   saint-christophe-des-bardes   à pied       11.1  2h30       Moyenne   \n",
       "175                     savignac   à pied       11.0  2h45        Facile   \n",
       "18                     verdelais   à pied        3.5    1h        Facile   \n",
       "\n",
       "                                                 Image Duration    Range  \n",
       "95   https://www.gironde-tourisme.com/wp-content/up...    <= 3h  <= 10km  \n",
       "12   https://www.gironde-tourisme.com/wp-content/up...    <= 8h   > 15km  \n",
       "65   https://www.gironde-tourisme.com/wp-content/up...    <= 3h  <= 15km  \n",
       "175  https://www.gironde-tourisme.com/wp-content/up...    <= 3h  <= 15km  \n",
       "18   https://www.gironde-tourisme.com/wp-content/up...    <= 1h   <= 6km  "
      ]
     },
     "metadata": {},
     "output_type": "display_data"
    }
   ],
   "source": [
    "display(df_rando.info(),\n",
    "        df_rando.describe(),\n",
    "        df_rando.sample(5))"
   ]
  },
  {
   "cell_type": "code",
   "execution_count": 23,
   "metadata": {},
   "outputs": [],
   "source": [
    "def rangeD(distance):\n",
    "    if distance <= 6:\n",
    "        return \"<= 6km\"\n",
    "    elif distance <= 10:\n",
    "        return \"<= 10km\"\n",
    "    elif distance <= 15:\n",
    "        return \"<= 15km\"\n",
    "    else:\n",
    "        return \"> 15km\"\n",
    "    \n",
    "df_rando[\"Range\"] = df_rando[\"Distance\"].apply(lambda x: rangeD(x))\n"
   ]
  },
  {
   "cell_type": "code",
   "execution_count": 40,
   "metadata": {},
   "outputs": [],
   "source": [
    "X = df_rando[[\"Types\", \"Range\", \"Difficulty\", \"Duration\"]]\n",
    "\n",
    "Rando_folle = make_pipeline(OneHotEncoder(),\n",
    "                            NearestNeighbors(n_neighbors = 3))\n",
    " \n",
    "Rando_folle = Rando_folle.fit(X)"
   ]
  },
  {
   "cell_type": "code",
   "execution_count": 38,
   "metadata": {},
   "outputs": [
    {
     "data": {
      "text/html": [
       "<div>\n",
       "<style scoped>\n",
       "    .dataframe tbody tr th:only-of-type {\n",
       "        vertical-align: middle;\n",
       "    }\n",
       "\n",
       "    .dataframe tbody tr th {\n",
       "        vertical-align: top;\n",
       "    }\n",
       "\n",
       "    .dataframe thead th {\n",
       "        text-align: right;\n",
       "    }\n",
       "</style>\n",
       "<table border=\"1\" class=\"dataframe\">\n",
       "  <thead>\n",
       "    <tr style=\"text-align: right;\">\n",
       "      <th></th>\n",
       "      <th>Types</th>\n",
       "      <th>Range</th>\n",
       "      <th>Difficulty</th>\n",
       "      <th>Duration</th>\n",
       "    </tr>\n",
       "  </thead>\n",
       "  <tbody>\n",
       "    <tr>\n",
       "      <th>0</th>\n",
       "      <td>à pied</td>\n",
       "      <td>&lt;= 15km</td>\n",
       "      <td>Moyenne</td>\n",
       "      <td>&lt;= 8h</td>\n",
       "    </tr>\n",
       "  </tbody>\n",
       "</table>\n",
       "</div>"
      ],
      "text/plain": [
       "    Types    Range Difficulty Duration\n",
       "0  à pied  <= 15km    Moyenne    <= 8h"
      ]
     },
     "execution_count": 38,
     "metadata": {},
     "output_type": "execute_result"
    }
   ],
   "source": [
    "UserPref = pd.DataFrame({\"Types\": [\"à pied\"],\n",
    "                         \"Range\": [\"<= 15km\"],\n",
    "                         \"Difficulty\": [\"Moyenne\"],\n",
    "                         \"Duration\": [\"<= 8h\"]})\n",
    "UserPref"
   ]
  },
  {
   "cell_type": "code",
   "execution_count": 41,
   "metadata": {},
   "outputs": [
    {
     "ename": "AttributeError",
     "evalue": "'Pipeline' object has no attribute 'kneighbors'",
     "output_type": "error",
     "traceback": [
      "\u001b[1;31m---------------------------------------------------------------------------\u001b[0m",
      "\u001b[1;31mAttributeError\u001b[0m                            Traceback (most recent call last)",
      "Cell \u001b[1;32mIn[41], line 1\u001b[0m\n\u001b[1;32m----> 1\u001b[0m closestR \u001b[38;5;241m=\u001b[39m \u001b[43mRando_folle\u001b[49m\u001b[38;5;241;43m.\u001b[39;49m\u001b[43mkneighbors\u001b[49m(UserPref, X\u001b[38;5;241m.\u001b[39mcolumns)\n",
      "\u001b[1;31mAttributeError\u001b[0m: 'Pipeline' object has no attribute 'kneighbors'"
     ]
    }
   ],
   "source": [
    "closestR = Rando_folle.kneighbors(UserPref, X.columns)\n"
   ]
  }
 ],
 "metadata": {
  "kernelspec": {
   "display_name": "Python 3",
   "language": "python",
   "name": "python3"
  },
  "language_info": {
   "codemirror_mode": {
    "name": "ipython",
    "version": 3
   },
   "file_extension": ".py",
   "mimetype": "text/x-python",
   "name": "python",
   "nbconvert_exporter": "python",
   "pygments_lexer": "ipython3",
   "version": "3.11.9"
  }
 },
 "nbformat": 4,
 "nbformat_minor": 2
}
