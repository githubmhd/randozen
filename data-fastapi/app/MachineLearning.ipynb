{
 "cells": [
  {
   "cell_type": "code",
   "execution_count": 3,
   "metadata": {},
   "outputs": [],
   "source": [
    "import pandas as pd\n",
    "from sklearn.neighbors import NearestNeighbors\n",
    "from sklearn.preprocessing import OneHotEncoder\n",
    "from sklearn.pipeline import make_pipeline"
   ]
  },
  {
   "cell_type": "code",
   "execution_count": 4,
   "metadata": {},
   "outputs": [],
   "source": [
    "df_rando = pd.read_csv(\"Données.csv\")"
   ]
  },
  {
   "cell_type": "code",
   "execution_count": 7,
   "metadata": {},
   "outputs": [
    {
     "name": "stdout",
     "output_type": "stream",
     "text": [
      "<class 'pandas.core.frame.DataFrame'>\n",
      "RangeIndex: 119 entries, 0 to 118\n",
      "Data columns (total 11 columns):\n",
      " #   Column         Non-Null Count  Dtype \n",
      "---  ------         --------------  ----- \n",
      " 0   Name           119 non-null    object\n",
      " 1   Town           119 non-null    object\n",
      " 2   Types          119 non-null    object\n",
      " 3   Distance       119 non-null    object\n",
      " 4   Time           119 non-null    object\n",
      " 5   Difficulty     119 non-null    object\n",
      " 6   Image          119 non-null    object\n",
      " 7   Titre          119 non-null    object\n",
      " 8   Lien_du_titre  119 non-null    object\n",
      " 9   Prix           119 non-null    object\n",
      " 10  Departement    119 non-null    int64 \n",
      "dtypes: int64(1), object(10)\n",
      "memory usage: 10.4+ KB\n"
     ]
    },
    {
     "data": {
      "text/plain": [
       "None"
      ]
     },
     "metadata": {},
     "output_type": "display_data"
    },
    {
     "data": {
      "text/html": [
       "<div>\n",
       "<style scoped>\n",
       "    .dataframe tbody tr th:only-of-type {\n",
       "        vertical-align: middle;\n",
       "    }\n",
       "\n",
       "    .dataframe tbody tr th {\n",
       "        vertical-align: top;\n",
       "    }\n",
       "\n",
       "    .dataframe thead th {\n",
       "        text-align: right;\n",
       "    }\n",
       "</style>\n",
       "<table border=\"1\" class=\"dataframe\">\n",
       "  <thead>\n",
       "    <tr style=\"text-align: right;\">\n",
       "      <th></th>\n",
       "      <th>Departement</th>\n",
       "    </tr>\n",
       "  </thead>\n",
       "  <tbody>\n",
       "    <tr>\n",
       "      <th>count</th>\n",
       "      <td>119.0</td>\n",
       "    </tr>\n",
       "    <tr>\n",
       "      <th>mean</th>\n",
       "      <td>33.0</td>\n",
       "    </tr>\n",
       "    <tr>\n",
       "      <th>std</th>\n",
       "      <td>0.0</td>\n",
       "    </tr>\n",
       "    <tr>\n",
       "      <th>min</th>\n",
       "      <td>33.0</td>\n",
       "    </tr>\n",
       "    <tr>\n",
       "      <th>25%</th>\n",
       "      <td>33.0</td>\n",
       "    </tr>\n",
       "    <tr>\n",
       "      <th>50%</th>\n",
       "      <td>33.0</td>\n",
       "    </tr>\n",
       "    <tr>\n",
       "      <th>75%</th>\n",
       "      <td>33.0</td>\n",
       "    </tr>\n",
       "    <tr>\n",
       "      <th>max</th>\n",
       "      <td>33.0</td>\n",
       "    </tr>\n",
       "  </tbody>\n",
       "</table>\n",
       "</div>"
      ],
      "text/plain": [
       "       Departement\n",
       "count        119.0\n",
       "mean          33.0\n",
       "std            0.0\n",
       "min           33.0\n",
       "25%           33.0\n",
       "50%           33.0\n",
       "75%           33.0\n",
       "max           33.0"
      ]
     },
     "metadata": {},
     "output_type": "display_data"
    },
    {
     "data": {
      "text/html": [
       "<div>\n",
       "<style scoped>\n",
       "    .dataframe tbody tr th:only-of-type {\n",
       "        vertical-align: middle;\n",
       "    }\n",
       "\n",
       "    .dataframe tbody tr th {\n",
       "        vertical-align: top;\n",
       "    }\n",
       "\n",
       "    .dataframe thead th {\n",
       "        text-align: right;\n",
       "    }\n",
       "</style>\n",
       "<table border=\"1\" class=\"dataframe\">\n",
       "  <thead>\n",
       "    <tr style=\"text-align: right;\">\n",
       "      <th></th>\n",
       "      <th>Name</th>\n",
       "      <th>Town</th>\n",
       "      <th>Types</th>\n",
       "      <th>Distance</th>\n",
       "      <th>Time</th>\n",
       "      <th>Difficulty</th>\n",
       "      <th>Image</th>\n",
       "      <th>Titre</th>\n",
       "      <th>Lien_du_titre</th>\n",
       "      <th>Prix</th>\n",
       "      <th>Departement</th>\n",
       "    </tr>\n",
       "  </thead>\n",
       "  <tbody>\n",
       "    <tr>\n",
       "      <th>75</th>\n",
       "      <td>La Blaignanaise</td>\n",
       "      <td>blaignan-prignac</td>\n",
       "      <td>à pied</td>\n",
       "      <td>14,2 km</td>\n",
       "      <td>Durée : 3h45/4h</td>\n",
       "      <td>Difficulté : Facile</td>\n",
       "      <td>https://www.gironde-tourisme.com/wp-content/up...</td>\n",
       "      <td>La Gazelle Perchée</td>\n",
       "      <td>https://www.cabanes-de-france.com/partenaire/l...</td>\n",
       "      <td>À partir de 200€</td>\n",
       "      <td>33</td>\n",
       "    </tr>\n",
       "    <tr>\n",
       "      <th>47</th>\n",
       "      <td>Boucle pédestre : A la croisée des appellations</td>\n",
       "      <td>saint-christophe-des-bardes</td>\n",
       "      <td>à pied</td>\n",
       "      <td>11,1 km</td>\n",
       "      <td>Durée : 2h30</td>\n",
       "      <td>Difficulté : Moyenne</td>\n",
       "      <td>https://www.gironde-tourisme.com/wp-content/up...</td>\n",
       "      <td>La Roulotte des Clartés</td>\n",
       "      <td>https://www.cabanes-de-france.com/partenaire/r...</td>\n",
       "      <td>À partir de 84€</td>\n",
       "      <td>33</td>\n",
       "    </tr>\n",
       "    <tr>\n",
       "      <th>69</th>\n",
       "      <td>Boucle pédestre : Tayac, Francs et Saint-Cibard</td>\n",
       "      <td>tayac</td>\n",
       "      <td>à pied</td>\n",
       "      <td>13,4 km</td>\n",
       "      <td>Durée : 3h15</td>\n",
       "      <td>Difficulté : Difficile</td>\n",
       "      <td>https://www.gironde-tourisme.com/wp-content/up...</td>\n",
       "      <td>Le Village des Monédières</td>\n",
       "      <td>https://www.cabanes-de-france.com/partenaire/r...</td>\n",
       "      <td>À partir de 43 €€</td>\n",
       "      <td>33</td>\n",
       "    </tr>\n",
       "    <tr>\n",
       "      <th>81</th>\n",
       "      <td>Saint-Laurent-du-Plan boucle sud</td>\n",
       "      <td>saint-laurent-du-plan</td>\n",
       "      <td>à pied</td>\n",
       "      <td>6,9 km</td>\n",
       "      <td>Durée : 1h10</td>\n",
       "      <td>Difficulté : Facile</td>\n",
       "      <td>https://www.gironde-tourisme.com/wp-content/up...</td>\n",
       "      <td>Au Foudre du Bazois</td>\n",
       "      <td>https://www.cabanes-de-france.com/partenaire/a...</td>\n",
       "      <td>À partir de 70€</td>\n",
       "      <td>33</td>\n",
       "    </tr>\n",
       "    <tr>\n",
       "      <th>55</th>\n",
       "      <td>Boucle pédestre : Les Artigues de Lussac en t...</td>\n",
       "      <td>les artigues-de-lussac</td>\n",
       "      <td>à pied</td>\n",
       "      <td>5,7 km</td>\n",
       "      <td>Durée : 1h45</td>\n",
       "      <td>Difficulté : Facile</td>\n",
       "      <td>https://www.gironde-tourisme.com/wp-content/up...</td>\n",
       "      <td>Le Village de la Champagne</td>\n",
       "      <td>https://www.cabanes-de-france.com/partenaire/r...</td>\n",
       "      <td>À partir de 43€</td>\n",
       "      <td>33</td>\n",
       "    </tr>\n",
       "  </tbody>\n",
       "</table>\n",
       "</div>"
      ],
      "text/plain": [
       "                                                 Name  \\\n",
       "75                                   La Blaignanaise    \n",
       "47   Boucle pédestre : A la croisée des appellations    \n",
       "69   Boucle pédestre : Tayac, Francs et Saint-Cibard    \n",
       "81                  Saint-Laurent-du-Plan boucle sud    \n",
       "55   Boucle pédestre : Les Artigues de Lussac en t...   \n",
       "\n",
       "                           Town     Types   Distance                Time  \\\n",
       "75             blaignan-prignac   à pied    14,2 km    Durée : 3h45/4h     \n",
       "47  saint-christophe-des-bardes   à pied    11,1 km       Durée : 2h30     \n",
       "69                        tayac   à pied    13,4 km       Durée : 3h15     \n",
       "81        saint-laurent-du-plan   à pied     6,9 km       Durée : 1h10     \n",
       "55       les artigues-de-lussac   à pied     5,7 km       Durée : 1h45     \n",
       "\n",
       "                  Difficulty  \\\n",
       "75      Difficulté : Facile    \n",
       "47     Difficulté : Moyenne    \n",
       "69   Difficulté : Difficile    \n",
       "81      Difficulté : Facile    \n",
       "55      Difficulté : Facile    \n",
       "\n",
       "                                                Image  \\\n",
       "75  https://www.gironde-tourisme.com/wp-content/up...   \n",
       "47  https://www.gironde-tourisme.com/wp-content/up...   \n",
       "69  https://www.gironde-tourisme.com/wp-content/up...   \n",
       "81  https://www.gironde-tourisme.com/wp-content/up...   \n",
       "55  https://www.gironde-tourisme.com/wp-content/up...   \n",
       "\n",
       "                         Titre  \\\n",
       "75          La Gazelle Perchée   \n",
       "47     La Roulotte des Clartés   \n",
       "69   Le Village des Monédières   \n",
       "81         Au Foudre du Bazois   \n",
       "55  Le Village de la Champagne   \n",
       "\n",
       "                                        Lien_du_titre               Prix  \\\n",
       "75  https://www.cabanes-de-france.com/partenaire/l...   À partir de 200€   \n",
       "47  https://www.cabanes-de-france.com/partenaire/r...    À partir de 84€   \n",
       "69  https://www.cabanes-de-france.com/partenaire/r...  À partir de 43 €€   \n",
       "81  https://www.cabanes-de-france.com/partenaire/a...    À partir de 70€   \n",
       "55  https://www.cabanes-de-france.com/partenaire/r...    À partir de 43€   \n",
       "\n",
       "    Departement  \n",
       "75           33  \n",
       "47           33  \n",
       "69           33  \n",
       "81           33  \n",
       "55           33  "
      ]
     },
     "metadata": {},
     "output_type": "display_data"
    }
   ],
   "source": [
    "display(df_rando.info(),\n",
    "        df_rando.describe(),\n",
    "        df_rando.sample(5))"
   ]
  },
  {
   "cell_type": "markdown",
   "metadata": {},
   "source": [
    "# Fill NA"
   ]
  },
  {
   "cell_type": "code",
   "execution_count": 8,
   "metadata": {},
   "outputs": [
    {
     "data": {
      "text/html": [
       "<div>\n",
       "<style scoped>\n",
       "    .dataframe tbody tr th:only-of-type {\n",
       "        vertical-align: middle;\n",
       "    }\n",
       "\n",
       "    .dataframe tbody tr th {\n",
       "        vertical-align: top;\n",
       "    }\n",
       "\n",
       "    .dataframe thead th {\n",
       "        text-align: right;\n",
       "    }\n",
       "</style>\n",
       "<table border=\"1\" class=\"dataframe\">\n",
       "  <thead>\n",
       "    <tr style=\"text-align: right;\">\n",
       "      <th></th>\n",
       "      <th>Name</th>\n",
       "      <th>Town</th>\n",
       "      <th>Types</th>\n",
       "      <th>Distance</th>\n",
       "      <th>Time</th>\n",
       "      <th>Difficulty</th>\n",
       "      <th>Image</th>\n",
       "      <th>Titre</th>\n",
       "      <th>Lien_du_titre</th>\n",
       "      <th>Prix</th>\n",
       "      <th>Departement</th>\n",
       "    </tr>\n",
       "  </thead>\n",
       "  <tbody>\n",
       "  </tbody>\n",
       "</table>\n",
       "</div>"
      ],
      "text/plain": [
       "Empty DataFrame\n",
       "Columns: [Name, Town, Types, Distance, Time, Difficulty, Image, Titre, Lien_du_titre, Prix, Departement]\n",
       "Index: []"
      ]
     },
     "execution_count": 8,
     "metadata": {},
     "output_type": "execute_result"
    }
   ],
   "source": [
    "# Fill NA\n",
    "df_rando[df_rando[\"Types\"].isna()]"
   ]
  },
  {
   "cell_type": "code",
   "execution_count": 9,
   "metadata": {},
   "outputs": [
    {
     "name": "stderr",
     "output_type": "stream",
     "text": [
      "C:\\Users\\moham\\AppData\\Local\\Temp\\ipykernel_11776\\645246321.py:2: FutureWarning: ChainedAssignmentError: behaviour will change in pandas 3.0!\n",
      "You are setting values through chained assignment. Currently this works in certain cases, but when using Copy-on-Write (which will become the default behaviour in pandas 3.0) this will never work to update the original DataFrame or Series, because the intermediate object on which we are setting values will behave as a copy.\n",
      "A typical example is when you are setting values in a column of a DataFrame, like:\n",
      "\n",
      "df[\"col\"][row_indexer] = value\n",
      "\n",
      "Use `df.loc[row_indexer, \"col\"] = values` instead, to perform the assignment in a single step and ensure this keeps updating the original `df`.\n",
      "\n",
      "See the caveats in the documentation: https://pandas.pydata.org/pandas-docs/stable/user_guide/indexing.html#returning-a-view-versus-a-copy\n",
      "\n",
      "  df_rando[\"Time\"][df_rando[\"Types\"].isna()] = \"Durée : 1h00\"\n",
      "C:\\Users\\moham\\AppData\\Local\\Temp\\ipykernel_11776\\645246321.py:2: SettingWithCopyWarning: \n",
      "A value is trying to be set on a copy of a slice from a DataFrame\n",
      "\n",
      "See the caveats in the documentation: https://pandas.pydata.org/pandas-docs/stable/user_guide/indexing.html#returning-a-view-versus-a-copy\n",
      "  df_rando[\"Time\"][df_rando[\"Types\"].isna()] = \"Durée : 1h00\"\n",
      "C:\\Users\\moham\\AppData\\Local\\Temp\\ipykernel_11776\\645246321.py:3: FutureWarning: ChainedAssignmentError: behaviour will change in pandas 3.0!\n",
      "You are setting values through chained assignment. Currently this works in certain cases, but when using Copy-on-Write (which will become the default behaviour in pandas 3.0) this will never work to update the original DataFrame or Series, because the intermediate object on which we are setting values will behave as a copy.\n",
      "A typical example is when you are setting values in a column of a DataFrame, like:\n",
      "\n",
      "df[\"col\"][row_indexer] = value\n",
      "\n",
      "Use `df.loc[row_indexer, \"col\"] = values` instead, to perform the assignment in a single step and ensure this keeps updating the original `df`.\n",
      "\n",
      "See the caveats in the documentation: https://pandas.pydata.org/pandas-docs/stable/user_guide/indexing.html#returning-a-view-versus-a-copy\n",
      "\n",
      "  df_rando[\"Difficulty\"][df_rando[\"Types\"].isna()] = \"Difficulté : Facile\"\n",
      "C:\\Users\\moham\\AppData\\Local\\Temp\\ipykernel_11776\\645246321.py:3: SettingWithCopyWarning: \n",
      "A value is trying to be set on a copy of a slice from a DataFrame\n",
      "\n",
      "See the caveats in the documentation: https://pandas.pydata.org/pandas-docs/stable/user_guide/indexing.html#returning-a-view-versus-a-copy\n",
      "  df_rando[\"Difficulty\"][df_rando[\"Types\"].isna()] = \"Difficulté : Facile\"\n",
      "C:\\Users\\moham\\AppData\\Local\\Temp\\ipykernel_11776\\645246321.py:4: FutureWarning: ChainedAssignmentError: behaviour will change in pandas 3.0!\n",
      "You are setting values through chained assignment. Currently this works in certain cases, but when using Copy-on-Write (which will become the default behaviour in pandas 3.0) this will never work to update the original DataFrame or Series, because the intermediate object on which we are setting values will behave as a copy.\n",
      "A typical example is when you are setting values in a column of a DataFrame, like:\n",
      "\n",
      "df[\"col\"][row_indexer] = value\n",
      "\n",
      "Use `df.loc[row_indexer, \"col\"] = values` instead, to perform the assignment in a single step and ensure this keeps updating the original `df`.\n",
      "\n",
      "See the caveats in the documentation: https://pandas.pydata.org/pandas-docs/stable/user_guide/indexing.html#returning-a-view-versus-a-copy\n",
      "\n",
      "  df_rando[\"Types\"][df_rando[\"Types\"].isna()] = \"à vélo\"\n",
      "C:\\Users\\moham\\AppData\\Local\\Temp\\ipykernel_11776\\645246321.py:4: SettingWithCopyWarning: \n",
      "A value is trying to be set on a copy of a slice from a DataFrame\n",
      "\n",
      "See the caveats in the documentation: https://pandas.pydata.org/pandas-docs/stable/user_guide/indexing.html#returning-a-view-versus-a-copy\n",
      "  df_rando[\"Types\"][df_rando[\"Types\"].isna()] = \"à vélo\"\n"
     ]
    }
   ],
   "source": [
    "# Données récupéré depuis google\n",
    "df_rando[\"Time\"][df_rando[\"Types\"].isna()] = \"Durée : 1h00\"\n",
    "df_rando[\"Difficulty\"][df_rando[\"Types\"].isna()] = \"Difficulté : Facile\"\n",
    "df_rando[\"Types\"][df_rando[\"Types\"].isna()] = \"à vélo\""
   ]
  },
  {
   "cell_type": "markdown",
   "metadata": {},
   "source": [
    "# Numerize Distance"
   ]
  },
  {
   "cell_type": "code",
   "execution_count": 10,
   "metadata": {},
   "outputs": [],
   "source": [
    "df_rando[\"Distance\"] =  df_rando[\"Distance\"].apply(lambda x: float(x.replace(\" km\", \"\").replace(\",\", \".\")))"
   ]
  },
  {
   "cell_type": "markdown",
   "metadata": {},
   "source": [
    "# Transform Time in Duration in minutes"
   ]
  },
  {
   "cell_type": "code",
   "execution_count": 11,
   "metadata": {},
   "outputs": [
    {
     "data": {
      "text/plain": [
       "array([' Durée : 1h30  ', ' Durée : 2h  ', ' Durée : 1h15  ',\n",
       "       ' Durée : 2  ', ' Durée : 1h45  ', ' Durée : 3h  ', ' Durée : 3  ',\n",
       "       ' Durée : 6h15  ', ' Durée : 3H30  ', ' Durée : 1h  ',\n",
       "       ' Durée : 7h  ', ' Durée : 4  ', ' Durée : 4h00  ',\n",
       "       ' Durée : 4h  ', ' Durée : 2 Jours  ', ' Durée : 1h10  ',\n",
       "       ' Durée : 2h45  ', ' Durée : 5h  ', ' Durée : 30 mn  ',\n",
       "       ' Durée : 2h20  ', ' Durée : 2h30  ', ' Durée : 3h30  ',\n",
       "       ' Durée : 45 min  ', ' Durée : 3h00  ', ' Durée : 30mn  ',\n",
       "       ' Durée : 2h10  ', ' Durée : 3h45  ', ' Durée : 1 jour  ',\n",
       "       ' Durée : 7h30  ', ' Durée : 1h00  ', ' Durée : 2h15  ',\n",
       "       ' Durée : 3h15  ', ' Durée : 1h20  ', ' Durée : 3,30  ',\n",
       "       ' Durée : 1h50  ', ' Durée : 3h45/4h  ', ' Durée : 1H30  ',\n",
       "       ' Durée : 4h30  ', ' Durée : 3h10  ', ' Durée : 45mn  ',\n",
       "       ' Durée : 45 mn  ', ' Durée : 6h30  ', ' Durée : 6h10  ',\n",
       "       ' Durée : 5h00  ', ' Durée : 7h00  ', ' Durée : 6h  ',\n",
       "       ' Durée : 1h40  '], dtype=object)"
      ]
     },
     "execution_count": 11,
     "metadata": {},
     "output_type": "execute_result"
    }
   ],
   "source": [
    "df_rando[\"Time\"].unique()"
   ]
  },
  {
   "cell_type": "code",
   "execution_count": 12,
   "metadata": {},
   "outputs": [
    {
     "data": {
      "text/plain": [
       "array(['1h30', '2h', '1h15', '2', '1h45', '3h', '3', '6h15', '3h30', '1h',\n",
       "       '7h', '4', '4h', '48h', '1h10', '2h45', '5h', '30min', '2h20',\n",
       "       '2h30', '45min', '2h10', '3h45', '24h', '7h30', '2h15', '3h15',\n",
       "       '1h20', '1h50', '4h30', '3h10', '6h30', '6h10', '6h', '1h40'],\n",
       "      dtype=object)"
      ]
     },
     "execution_count": 12,
     "metadata": {},
     "output_type": "execute_result"
    }
   ],
   "source": [
    "# Virer duree et mettre au même format\n",
    "df_rando[\"Time\"] = df_rando[\"Time\"].apply(lambda x: x.replace(\"Durée : \", \"\").replace(\"mn\", \"min\").replace(\"H\", \"h\").replace(\"  \", \"\").replace(\" \", \"\").replace(\"00\", \"\").replace(\",\", \"h\").replace(\"3h45/4h\", \"4h\").replace(\"1jour\", \"24h\").replace(\"2Jours\", \"48h\"))\n",
    "\n",
    "df_rando[\"Time\"].unique()"
   ]
  },
  {
   "cell_type": "code",
   "execution_count": 13,
   "metadata": {},
   "outputs": [
    {
     "data": {
      "text/html": [
       "<div>\n",
       "<style scoped>\n",
       "    .dataframe tbody tr th:only-of-type {\n",
       "        vertical-align: middle;\n",
       "    }\n",
       "\n",
       "    .dataframe tbody tr th {\n",
       "        vertical-align: top;\n",
       "    }\n",
       "\n",
       "    .dataframe thead th {\n",
       "        text-align: right;\n",
       "    }\n",
       "</style>\n",
       "<table border=\"1\" class=\"dataframe\">\n",
       "  <thead>\n",
       "    <tr style=\"text-align: right;\">\n",
       "      <th></th>\n",
       "      <th>Name</th>\n",
       "      <th>Town</th>\n",
       "      <th>Types</th>\n",
       "      <th>Distance</th>\n",
       "      <th>Time</th>\n",
       "      <th>Difficulty</th>\n",
       "      <th>Image</th>\n",
       "      <th>Titre</th>\n",
       "      <th>Lien_du_titre</th>\n",
       "      <th>Prix</th>\n",
       "      <th>Departement</th>\n",
       "    </tr>\n",
       "  </thead>\n",
       "  <tbody>\n",
       "    <tr>\n",
       "      <th>4</th>\n",
       "      <td>De Sainte-Foy-la-Grande à Port-Sainte-Foy-et-...</td>\n",
       "      <td>sainte-foy-la-grande</td>\n",
       "      <td>à pied</td>\n",
       "      <td>8.0</td>\n",
       "      <td>2</td>\n",
       "      <td>Difficulté : Facile</td>\n",
       "      <td>https://www.gironde-tourisme.com/wp-content/up...</td>\n",
       "      <td>les lodges de babylone</td>\n",
       "      <td>https://www.cabanes-de-france.com/partenaire/l...</td>\n",
       "      <td>À partir de 270€</td>\n",
       "      <td>33</td>\n",
       "    </tr>\n",
       "    <tr>\n",
       "      <th>7</th>\n",
       "      <td>Boucle Haut Val d’Engranne Sud</td>\n",
       "      <td>gornac</td>\n",
       "      <td>à pied</td>\n",
       "      <td>10.2</td>\n",
       "      <td>3</td>\n",
       "      <td>Difficulté : Facile</td>\n",
       "      <td>https://www.gironde-tourisme.com/wp-content/up...</td>\n",
       "      <td>Les Cabanes des Volcans</td>\n",
       "      <td>https://www.cabanes-de-france.com/partenaire/l...</td>\n",
       "      <td>À partir de 165€</td>\n",
       "      <td>33</td>\n",
       "    </tr>\n",
       "    <tr>\n",
       "      <th>17</th>\n",
       "      <td>La Sauve-Majeure grande boucle</td>\n",
       "      <td>la sauve</td>\n",
       "      <td>à pied</td>\n",
       "      <td>15.0</td>\n",
       "      <td>4</td>\n",
       "      <td>Difficulté : Facile</td>\n",
       "      <td>https://www.gironde-tourisme.com/wp-content/up...</td>\n",
       "      <td>LES CABANES DE VIRE</td>\n",
       "      <td>https://www.cabanes-de-france.com/partenaire/l...</td>\n",
       "      <td>À partir de 70€</td>\n",
       "      <td>33</td>\n",
       "    </tr>\n",
       "  </tbody>\n",
       "</table>\n",
       "</div>"
      ],
      "text/plain": [
       "                                                 Name                  Town  \\\n",
       "4    De Sainte-Foy-la-Grande à Port-Sainte-Foy-et-...  sainte-foy-la-grande   \n",
       "7                     Boucle Haut Val d’Engranne Sud                 gornac   \n",
       "17                    La Sauve-Majeure grande boucle               la sauve   \n",
       "\n",
       "       Types  Distance Time             Difficulty  \\\n",
       "4    à pied        8.0    2   Difficulté : Facile    \n",
       "7    à pied       10.2    3   Difficulté : Facile    \n",
       "17   à pied       15.0    4   Difficulté : Facile    \n",
       "\n",
       "                                                Image  \\\n",
       "4   https://www.gironde-tourisme.com/wp-content/up...   \n",
       "7   https://www.gironde-tourisme.com/wp-content/up...   \n",
       "17  https://www.gironde-tourisme.com/wp-content/up...   \n",
       "\n",
       "                      Titre  \\\n",
       "4    les lodges de babylone   \n",
       "7   Les Cabanes des Volcans   \n",
       "17      LES CABANES DE VIRE   \n",
       "\n",
       "                                        Lien_du_titre              Prix  \\\n",
       "4   https://www.cabanes-de-france.com/partenaire/l...  À partir de 270€   \n",
       "7   https://www.cabanes-de-france.com/partenaire/l...  À partir de 165€   \n",
       "17  https://www.cabanes-de-france.com/partenaire/l...   À partir de 70€   \n",
       "\n",
       "    Departement  \n",
       "4            33  \n",
       "7            33  \n",
       "17           33  "
      ]
     },
     "execution_count": 13,
     "metadata": {},
     "output_type": "execute_result"
    }
   ],
   "source": [
    "df_rando[(df_rando[\"Time\"] == \"3\") | (df_rando[\"Time\"] == \"4\") | (df_rando[\"Time\"] == \"2\")]"
   ]
  },
  {
   "cell_type": "code",
   "execution_count": 14,
   "metadata": {},
   "outputs": [
    {
     "name": "stderr",
     "output_type": "stream",
     "text": [
      "C:\\Users\\moham\\AppData\\Local\\Temp\\ipykernel_11776\\3758786976.py:2: FutureWarning: ChainedAssignmentError: behaviour will change in pandas 3.0!\n",
      "You are setting values through chained assignment. Currently this works in certain cases, but when using Copy-on-Write (which will become the default behaviour in pandas 3.0) this will never work to update the original DataFrame or Series, because the intermediate object on which we are setting values will behave as a copy.\n",
      "A typical example is when you are setting values in a column of a DataFrame, like:\n",
      "\n",
      "df[\"col\"][row_indexer] = value\n",
      "\n",
      "Use `df.loc[row_indexer, \"col\"] = values` instead, to perform the assignment in a single step and ensure this keeps updating the original `df`.\n",
      "\n",
      "See the caveats in the documentation: https://pandas.pydata.org/pandas-docs/stable/user_guide/indexing.html#returning-a-view-versus-a-copy\n",
      "\n",
      "  df_rando[\"Time\"].iloc[4] = \"2h\"\n",
      "C:\\Users\\moham\\AppData\\Local\\Temp\\ipykernel_11776\\3758786976.py:2: SettingWithCopyWarning: \n",
      "A value is trying to be set on a copy of a slice from a DataFrame\n",
      "\n",
      "See the caveats in the documentation: https://pandas.pydata.org/pandas-docs/stable/user_guide/indexing.html#returning-a-view-versus-a-copy\n",
      "  df_rando[\"Time\"].iloc[4] = \"2h\"\n",
      "C:\\Users\\moham\\AppData\\Local\\Temp\\ipykernel_11776\\3758786976.py:3: FutureWarning: ChainedAssignmentError: behaviour will change in pandas 3.0!\n",
      "You are setting values through chained assignment. Currently this works in certain cases, but when using Copy-on-Write (which will become the default behaviour in pandas 3.0) this will never work to update the original DataFrame or Series, because the intermediate object on which we are setting values will behave as a copy.\n",
      "A typical example is when you are setting values in a column of a DataFrame, like:\n",
      "\n",
      "df[\"col\"][row_indexer] = value\n",
      "\n",
      "Use `df.loc[row_indexer, \"col\"] = values` instead, to perform the assignment in a single step and ensure this keeps updating the original `df`.\n",
      "\n",
      "See the caveats in the documentation: https://pandas.pydata.org/pandas-docs/stable/user_guide/indexing.html#returning-a-view-versus-a-copy\n",
      "\n",
      "  df_rando[\"Time\"].iloc[8] = \"3h\"\n",
      "C:\\Users\\moham\\AppData\\Local\\Temp\\ipykernel_11776\\3758786976.py:3: SettingWithCopyWarning: \n",
      "A value is trying to be set on a copy of a slice from a DataFrame\n",
      "\n",
      "See the caveats in the documentation: https://pandas.pydata.org/pandas-docs/stable/user_guide/indexing.html#returning-a-view-versus-a-copy\n",
      "  df_rando[\"Time\"].iloc[8] = \"3h\"\n",
      "C:\\Users\\moham\\AppData\\Local\\Temp\\ipykernel_11776\\3758786976.py:4: FutureWarning: ChainedAssignmentError: behaviour will change in pandas 3.0!\n",
      "You are setting values through chained assignment. Currently this works in certain cases, but when using Copy-on-Write (which will become the default behaviour in pandas 3.0) this will never work to update the original DataFrame or Series, because the intermediate object on which we are setting values will behave as a copy.\n",
      "A typical example is when you are setting values in a column of a DataFrame, like:\n",
      "\n",
      "df[\"col\"][row_indexer] = value\n",
      "\n",
      "Use `df.loc[row_indexer, \"col\"] = values` instead, to perform the assignment in a single step and ensure this keeps updating the original `df`.\n",
      "\n",
      "See the caveats in the documentation: https://pandas.pydata.org/pandas-docs/stable/user_guide/indexing.html#returning-a-view-versus-a-copy\n",
      "\n",
      "  df_rando[\"Time\"].iloc[21] = \"4h\"\n",
      "C:\\Users\\moham\\AppData\\Local\\Temp\\ipykernel_11776\\3758786976.py:4: SettingWithCopyWarning: \n",
      "A value is trying to be set on a copy of a slice from a DataFrame\n",
      "\n",
      "See the caveats in the documentation: https://pandas.pydata.org/pandas-docs/stable/user_guide/indexing.html#returning-a-view-versus-a-copy\n",
      "  df_rando[\"Time\"].iloc[21] = \"4h\"\n",
      "C:\\Users\\moham\\AppData\\Local\\Temp\\ipykernel_11776\\3758786976.py:5: FutureWarning: ChainedAssignmentError: behaviour will change in pandas 3.0!\n",
      "You are setting values through chained assignment. Currently this works in certain cases, but when using Copy-on-Write (which will become the default behaviour in pandas 3.0) this will never work to update the original DataFrame or Series, because the intermediate object on which we are setting values will behave as a copy.\n",
      "A typical example is when you are setting values in a column of a DataFrame, like:\n",
      "\n",
      "df[\"col\"][row_indexer] = value\n",
      "\n",
      "Use `df.loc[row_indexer, \"col\"] = values` instead, to perform the assignment in a single step and ensure this keeps updating the original `df`.\n",
      "\n",
      "See the caveats in the documentation: https://pandas.pydata.org/pandas-docs/stable/user_guide/indexing.html#returning-a-view-versus-a-copy\n",
      "\n",
      "  df_rando[\"Time\"].iloc[113] = \"4h\"\n",
      "C:\\Users\\moham\\AppData\\Local\\Temp\\ipykernel_11776\\3758786976.py:5: SettingWithCopyWarning: \n",
      "A value is trying to be set on a copy of a slice from a DataFrame\n",
      "\n",
      "See the caveats in the documentation: https://pandas.pydata.org/pandas-docs/stable/user_guide/indexing.html#returning-a-view-versus-a-copy\n",
      "  df_rando[\"Time\"].iloc[113] = \"4h\"\n"
     ]
    }
   ],
   "source": [
    "# Correction des temps incohérents\n",
    "df_rando[\"Time\"].iloc[4] = \"2h\"\n",
    "df_rando[\"Time\"].iloc[8] = \"3h\"\n",
    "df_rando[\"Time\"].iloc[21] = \"4h\"\n",
    "df_rando[\"Time\"].iloc[113] = \"4h\""
   ]
  },
  {
   "cell_type": "code",
   "execution_count": 15,
   "metadata": {},
   "outputs": [
    {
     "data": {
      "text/plain": [
       "array(['1h30', '2h', '1h15', '1h45', '3h', '3', '6h15', '3h30', '1h',\n",
       "       '7h', '4', '4h', '48h', '1h10', '2h45', '5h', '30min', '2h20',\n",
       "       '2h30', '45min', '2h10', '3h45', '24h', '7h30', '2h15', '3h15',\n",
       "       '1h20', '1h50', '4h30', '3h10', '6h30', '6h10', '1h40'],\n",
       "      dtype=object)"
      ]
     },
     "execution_count": 15,
     "metadata": {},
     "output_type": "execute_result"
    }
   ],
   "source": [
    "df_rando[\"Time\"].unique()"
   ]
  },
  {
   "cell_type": "code",
   "execution_count": 16,
   "metadata": {},
   "outputs": [
    {
     "data": {
      "text/plain": [
       "Time\n",
       "2h       14\n",
       "3h       13\n",
       "2h30     11\n",
       "1h        9\n",
       "1h30      8\n",
       "3h30      8\n",
       "4h        8\n",
       "1h45      5\n",
       "45min     5\n",
       "5h        5\n",
       "1h15      4\n",
       "1h10      3\n",
       "30min     3\n",
       "7h        2\n",
       "1h50      2\n",
       "3h45      2\n",
       "48h       1\n",
       "2h15      1\n",
       "6h10      1\n",
       "6h30      1\n",
       "3h10      1\n",
       "4h30      1\n",
       "1h20      1\n",
       "3h15      1\n",
       "7h30      1\n",
       "2h45      1\n",
       "24h       1\n",
       "2h10      1\n",
       "3         1\n",
       "6h15      1\n",
       "2h20      1\n",
       "4         1\n",
       "1h40      1\n",
       "Name: count, dtype: int64"
      ]
     },
     "execution_count": 16,
     "metadata": {},
     "output_type": "execute_result"
    }
   ],
   "source": [
    "df_rando[\"Time\"].value_counts()"
   ]
  },
  {
   "cell_type": "code",
   "execution_count": 17,
   "metadata": {},
   "outputs": [
    {
     "data": {
      "text/plain": [
       "True"
      ]
     },
     "execution_count": 17,
     "metadata": {},
     "output_type": "execute_result"
    }
   ],
   "source": [
    "\"1h10\" < \"1h30\""
   ]
  },
  {
   "cell_type": "code",
   "execution_count": 18,
   "metadata": {},
   "outputs": [],
   "source": [
    "def dur(time):\n",
    "    \n",
    "    Duration = [{\"1h\": \"<= 1h\"}, {\"2h\": \"<= 2h\"}, {\"3h\": \"<= 3h\"}, {\"5h\": \"<= 5h\"}, {\"8h\": \"<= 8h\"}, {\"48h\": \"> 8h\"}]\n",
    "    \n",
    "    if time == \"30min\" or time == \"45min\":\n",
    "        return \"<= 1h\"\n",
    "    else:\n",
    "        for ele in range(len(Duration)):\n",
    "            if time <= [key for key in Duration[ele]][0]:\n",
    "                return [val for val in Duration[ele].values()][0]"
   ]
  },
  {
   "cell_type": "code",
   "execution_count": 19,
   "metadata": {},
   "outputs": [],
   "source": [
    "df_rando[\"Duration\"] = df_rando[\"Time\"].apply(lambda x: dur(x))"
   ]
  },
  {
   "cell_type": "code",
   "execution_count": 20,
   "metadata": {},
   "outputs": [
    {
     "data": {
      "text/plain": [
       "Duration\n",
       "<= 2h    39\n",
       "<= 3h    29\n",
       "<= 5h    28\n",
       "<= 1h    17\n",
       "<= 8h     6\n",
       "Name: count, dtype: int64"
      ]
     },
     "execution_count": 20,
     "metadata": {},
     "output_type": "execute_result"
    }
   ],
   "source": [
    "df_rando[\"Duration\"].value_counts()"
   ]
  },
  {
   "cell_type": "code",
   "execution_count": 21,
   "metadata": {},
   "outputs": [
    {
     "data": {
      "text/html": [
       "<div>\n",
       "<style scoped>\n",
       "    .dataframe tbody tr th:only-of-type {\n",
       "        vertical-align: middle;\n",
       "    }\n",
       "\n",
       "    .dataframe tbody tr th {\n",
       "        vertical-align: top;\n",
       "    }\n",
       "\n",
       "    .dataframe thead th {\n",
       "        text-align: right;\n",
       "    }\n",
       "</style>\n",
       "<table border=\"1\" class=\"dataframe\">\n",
       "  <thead>\n",
       "    <tr style=\"text-align: right;\">\n",
       "      <th></th>\n",
       "      <th>Name</th>\n",
       "      <th>Town</th>\n",
       "      <th>Types</th>\n",
       "      <th>Distance</th>\n",
       "      <th>Time</th>\n",
       "      <th>Difficulty</th>\n",
       "      <th>Image</th>\n",
       "      <th>Titre</th>\n",
       "      <th>Lien_du_titre</th>\n",
       "      <th>Prix</th>\n",
       "      <th>Departement</th>\n",
       "      <th>Duration</th>\n",
       "    </tr>\n",
       "  </thead>\n",
       "  <tbody>\n",
       "    <tr>\n",
       "      <th>20</th>\n",
       "      <td>Chemin de Saint-Jacques-Compostelle par la Ch...</td>\n",
       "      <td>le verdon-sur-mer</td>\n",
       "      <td>à pied</td>\n",
       "      <td>96.0</td>\n",
       "      <td>48h</td>\n",
       "      <td>Difficulté : Moyenne</td>\n",
       "      <td>https://www.gironde-tourisme.com/wp-content/up...</td>\n",
       "      <td>Le Village Toue des Demoiselles</td>\n",
       "      <td>https://www.cabanes-de-france.com/partenaire/t...</td>\n",
       "      <td>À partir de 54€</td>\n",
       "      <td>33</td>\n",
       "      <td>&lt;= 5h</td>\n",
       "    </tr>\n",
       "    <tr>\n",
       "      <th>53</th>\n",
       "      <td>Urban Wine Trail</td>\n",
       "      <td>bordeaux</td>\n",
       "      <td>à pied</td>\n",
       "      <td>25.0</td>\n",
       "      <td>24h</td>\n",
       "      <td>Difficulté : Facile</td>\n",
       "      <td>https://www.gironde-tourisme.com/wp-content/up...</td>\n",
       "      <td>LE COCON DU VIVARAIS</td>\n",
       "      <td>https://www.cabanes-de-france.com/partenaire/l...</td>\n",
       "      <td>À partir de 90€</td>\n",
       "      <td>33</td>\n",
       "      <td>&lt;= 2h</td>\n",
       "    </tr>\n",
       "  </tbody>\n",
       "</table>\n",
       "</div>"
      ],
      "text/plain": [
       "                                                 Name               Town  \\\n",
       "20   Chemin de Saint-Jacques-Compostelle par la Ch...  le verdon-sur-mer   \n",
       "53                                  Urban Wine Trail            bordeaux   \n",
       "\n",
       "       Types  Distance Time              Difficulty  \\\n",
       "20   à pied       96.0  48h   Difficulté : Moyenne    \n",
       "53   à pied       25.0  24h    Difficulté : Facile    \n",
       "\n",
       "                                                Image  \\\n",
       "20  https://www.gironde-tourisme.com/wp-content/up...   \n",
       "53  https://www.gironde-tourisme.com/wp-content/up...   \n",
       "\n",
       "                              Titre  \\\n",
       "20  Le Village Toue des Demoiselles   \n",
       "53             LE COCON DU VIVARAIS   \n",
       "\n",
       "                                        Lien_du_titre             Prix  \\\n",
       "20  https://www.cabanes-de-france.com/partenaire/t...  À partir de 54€   \n",
       "53  https://www.cabanes-de-france.com/partenaire/l...  À partir de 90€   \n",
       "\n",
       "    Departement Duration  \n",
       "20           33    <= 5h  \n",
       "53           33    <= 2h  "
      ]
     },
     "execution_count": 21,
     "metadata": {},
     "output_type": "execute_result"
    }
   ],
   "source": [
    "df_rando[(df_rando[\"Time\"] == \"24h\") | (df_rando[\"Time\"] == \"48h\")]"
   ]
  },
  {
   "cell_type": "code",
   "execution_count": 23,
   "metadata": {},
   "outputs": [],
   "source": [
    "df_rando[\"Difficulty\"] = df_rando[\"Difficulty\"].apply(lambda x: x.replace(\" Difficulté : \", \"\").replace(\"Difficulté : \", \"\"))"
   ]
  },
  {
   "cell_type": "code",
   "execution_count": 24,
   "metadata": {},
   "outputs": [
    {
     "data": {
      "text/plain": [
       "Difficulty\n",
       "Facile          64\n",
       "Moyenne         31\n",
       "Très facile     20\n",
       "Difficile        4\n",
       "Name: count, dtype: int64"
      ]
     },
     "execution_count": 24,
     "metadata": {},
     "output_type": "execute_result"
    }
   ],
   "source": [
    "df_rando[\"Difficulty\"].value_counts()"
   ]
  },
  {
   "cell_type": "code",
   "execution_count": 25,
   "metadata": {},
   "outputs": [],
   "source": [
    "df_rando[\"Difficulty\"] = df_rando[\"Difficulty\"].apply(lambda x: x.replace(\"Moyenne \", \"Moyenne\").replace(\"Très Facile \", \"Très Facile\").replace(\"Facile \", \"Facile\").replace(\"Difficile \", \"Difficile\"))"
   ]
  },
  {
   "cell_type": "code",
   "execution_count": 26,
   "metadata": {},
   "outputs": [
    {
     "name": "stdout",
     "output_type": "stream",
     "text": [
      "<class 'pandas.core.frame.DataFrame'>\n",
      "RangeIndex: 119 entries, 0 to 118\n",
      "Data columns (total 12 columns):\n",
      " #   Column         Non-Null Count  Dtype  \n",
      "---  ------         --------------  -----  \n",
      " 0   Name           119 non-null    object \n",
      " 1   Town           119 non-null    object \n",
      " 2   Types          119 non-null    object \n",
      " 3   Distance       119 non-null    float64\n",
      " 4   Time           119 non-null    object \n",
      " 5   Difficulty     119 non-null    object \n",
      " 6   Image          119 non-null    object \n",
      " 7   Titre          119 non-null    object \n",
      " 8   Lien_du_titre  119 non-null    object \n",
      " 9   Prix           119 non-null    object \n",
      " 10  Departement    119 non-null    int64  \n",
      " 11  Duration       119 non-null    object \n",
      "dtypes: float64(1), int64(1), object(10)\n",
      "memory usage: 11.3+ KB\n"
     ]
    },
    {
     "data": {
      "text/plain": [
       "None"
      ]
     },
     "metadata": {},
     "output_type": "display_data"
    },
    {
     "data": {
      "text/html": [
       "<div>\n",
       "<style scoped>\n",
       "    .dataframe tbody tr th:only-of-type {\n",
       "        vertical-align: middle;\n",
       "    }\n",
       "\n",
       "    .dataframe tbody tr th {\n",
       "        vertical-align: top;\n",
       "    }\n",
       "\n",
       "    .dataframe thead th {\n",
       "        text-align: right;\n",
       "    }\n",
       "</style>\n",
       "<table border=\"1\" class=\"dataframe\">\n",
       "  <thead>\n",
       "    <tr style=\"text-align: right;\">\n",
       "      <th></th>\n",
       "      <th>Distance</th>\n",
       "      <th>Departement</th>\n",
       "    </tr>\n",
       "  </thead>\n",
       "  <tbody>\n",
       "    <tr>\n",
       "      <th>count</th>\n",
       "      <td>119.000000</td>\n",
       "      <td>119.0</td>\n",
       "    </tr>\n",
       "    <tr>\n",
       "      <th>mean</th>\n",
       "      <td>10.611429</td>\n",
       "      <td>33.0</td>\n",
       "    </tr>\n",
       "    <tr>\n",
       "      <th>std</th>\n",
       "      <td>10.028805</td>\n",
       "      <td>0.0</td>\n",
       "    </tr>\n",
       "    <tr>\n",
       "      <th>min</th>\n",
       "      <td>0.600000</td>\n",
       "      <td>33.0</td>\n",
       "    </tr>\n",
       "    <tr>\n",
       "      <th>25%</th>\n",
       "      <td>5.650000</td>\n",
       "      <td>33.0</td>\n",
       "    </tr>\n",
       "    <tr>\n",
       "      <th>50%</th>\n",
       "      <td>9.000000</td>\n",
       "      <td>33.0</td>\n",
       "    </tr>\n",
       "    <tr>\n",
       "      <th>75%</th>\n",
       "      <td>13.100000</td>\n",
       "      <td>33.0</td>\n",
       "    </tr>\n",
       "    <tr>\n",
       "      <th>max</th>\n",
       "      <td>96.000000</td>\n",
       "      <td>33.0</td>\n",
       "    </tr>\n",
       "  </tbody>\n",
       "</table>\n",
       "</div>"
      ],
      "text/plain": [
       "         Distance  Departement\n",
       "count  119.000000        119.0\n",
       "mean    10.611429         33.0\n",
       "std     10.028805          0.0\n",
       "min      0.600000         33.0\n",
       "25%      5.650000         33.0\n",
       "50%      9.000000         33.0\n",
       "75%     13.100000         33.0\n",
       "max     96.000000         33.0"
      ]
     },
     "metadata": {},
     "output_type": "display_data"
    },
    {
     "data": {
      "text/html": [
       "<div>\n",
       "<style scoped>\n",
       "    .dataframe tbody tr th:only-of-type {\n",
       "        vertical-align: middle;\n",
       "    }\n",
       "\n",
       "    .dataframe tbody tr th {\n",
       "        vertical-align: top;\n",
       "    }\n",
       "\n",
       "    .dataframe thead th {\n",
       "        text-align: right;\n",
       "    }\n",
       "</style>\n",
       "<table border=\"1\" class=\"dataframe\">\n",
       "  <thead>\n",
       "    <tr style=\"text-align: right;\">\n",
       "      <th></th>\n",
       "      <th>Name</th>\n",
       "      <th>Town</th>\n",
       "      <th>Types</th>\n",
       "      <th>Distance</th>\n",
       "      <th>Time</th>\n",
       "      <th>Difficulty</th>\n",
       "      <th>Image</th>\n",
       "      <th>Titre</th>\n",
       "      <th>Lien_du_titre</th>\n",
       "      <th>Prix</th>\n",
       "      <th>Departement</th>\n",
       "      <th>Duration</th>\n",
       "    </tr>\n",
       "  </thead>\n",
       "  <tbody>\n",
       "    <tr>\n",
       "      <th>102</th>\n",
       "      <td>Boucle de Sainte Emilionne</td>\n",
       "      <td>rimons</td>\n",
       "      <td>à pied</td>\n",
       "      <td>6.0</td>\n",
       "      <td>2h</td>\n",
       "      <td>Facile</td>\n",
       "      <td>https://www.gironde-tourisme.com/wp-content/up...</td>\n",
       "      <td>Monchâteau Etoilé, hébergement insolite</td>\n",
       "      <td>https://www.cabanes-de-france.com/partenaire/m...</td>\n",
       "      <td>À partir de 160€</td>\n",
       "      <td>33</td>\n",
       "      <td>&lt;= 2h</td>\n",
       "    </tr>\n",
       "    <tr>\n",
       "      <th>103</th>\n",
       "      <td>Sentier Street Art à Braud-et-Saint-Louis</td>\n",
       "      <td>braud-et-saint-louis</td>\n",
       "      <td>à pied</td>\n",
       "      <td>2.0</td>\n",
       "      <td>1h</td>\n",
       "      <td>Facile</td>\n",
       "      <td>https://www.gironde-tourisme.com/wp-content/up...</td>\n",
       "      <td>Cabane Spa « La Truffière » – Château de Cantecor</td>\n",
       "      <td>https://www.cabanes-de-france.com/partenaire/c...</td>\n",
       "      <td>À partir de 189€</td>\n",
       "      <td>33</td>\n",
       "      <td>&lt;= 1h</td>\n",
       "    </tr>\n",
       "    <tr>\n",
       "      <th>63</th>\n",
       "      <td>La Soulacaise Sud</td>\n",
       "      <td>soulac-sur-mer</td>\n",
       "      <td>à pied</td>\n",
       "      <td>6.3</td>\n",
       "      <td>2h</td>\n",
       "      <td>Facile</td>\n",
       "      <td>https://www.gironde-tourisme.com/wp-content/up...</td>\n",
       "      <td>Les Cabanes de Fontaine</td>\n",
       "      <td>https://www.cabanes-de-france.com/partenaire/l...</td>\n",
       "      <td>À partir de 95€</td>\n",
       "      <td>33</td>\n",
       "      <td>&lt;= 2h</td>\n",
       "    </tr>\n",
       "    <tr>\n",
       "      <th>50</th>\n",
       "      <td>Boucle locale de Saint-Martial</td>\n",
       "      <td>saint-martial</td>\n",
       "      <td>à pied</td>\n",
       "      <td>10.0</td>\n",
       "      <td>2h30</td>\n",
       "      <td>Moyenne</td>\n",
       "      <td>https://www.gironde-tourisme.com/wp-content/up...</td>\n",
       "      <td>BOIS DE LUNA</td>\n",
       "      <td>https://www.cabanes-de-france.com/partenaire/b...</td>\n",
       "      <td>À partir de 265€</td>\n",
       "      <td>33</td>\n",
       "      <td>&lt;= 3h</td>\n",
       "    </tr>\n",
       "    <tr>\n",
       "      <th>76</th>\n",
       "      <td>Boucle du château de Villandraut</td>\n",
       "      <td>villandraut</td>\n",
       "      <td>à pied</td>\n",
       "      <td>13.8</td>\n",
       "      <td>2h30</td>\n",
       "      <td>Facile</td>\n",
       "      <td>https://www.gironde-tourisme.com/wp-content/up...</td>\n",
       "      <td>Parc de la Belle</td>\n",
       "      <td>https://www.cabanes-de-france.com/partenaire/p...</td>\n",
       "      <td>À partir de 95€</td>\n",
       "      <td>33</td>\n",
       "      <td>&lt;= 3h</td>\n",
       "    </tr>\n",
       "  </tbody>\n",
       "</table>\n",
       "</div>"
      ],
      "text/plain": [
       "                                            Name                  Town  \\\n",
       "102                  Boucle de Sainte Emilionne                 rimons   \n",
       "103   Sentier Street Art à Braud-et-Saint-Louis   braud-et-saint-louis   \n",
       "63                            La Soulacaise Sud         soulac-sur-mer   \n",
       "50               Boucle locale de Saint-Martial          saint-martial   \n",
       "76             Boucle du château de Villandraut            villandraut   \n",
       "\n",
       "        Types  Distance  Time Difficulty  \\\n",
       "102   à pied        6.0    2h     Facile   \n",
       "103   à pied        2.0    1h     Facile   \n",
       "63    à pied        6.3    2h     Facile   \n",
       "50    à pied       10.0  2h30    Moyenne   \n",
       "76    à pied       13.8  2h30     Facile   \n",
       "\n",
       "                                                 Image  \\\n",
       "102  https://www.gironde-tourisme.com/wp-content/up...   \n",
       "103  https://www.gironde-tourisme.com/wp-content/up...   \n",
       "63   https://www.gironde-tourisme.com/wp-content/up...   \n",
       "50   https://www.gironde-tourisme.com/wp-content/up...   \n",
       "76   https://www.gironde-tourisme.com/wp-content/up...   \n",
       "\n",
       "                                                 Titre  \\\n",
       "102            Monchâteau Etoilé, hébergement insolite   \n",
       "103  Cabane Spa « La Truffière » – Château de Cantecor   \n",
       "63                             Les Cabanes de Fontaine   \n",
       "50                                        BOIS DE LUNA   \n",
       "76                                    Parc de la Belle   \n",
       "\n",
       "                                         Lien_du_titre              Prix  \\\n",
       "102  https://www.cabanes-de-france.com/partenaire/m...  À partir de 160€   \n",
       "103  https://www.cabanes-de-france.com/partenaire/c...  À partir de 189€   \n",
       "63   https://www.cabanes-de-france.com/partenaire/l...   À partir de 95€   \n",
       "50   https://www.cabanes-de-france.com/partenaire/b...  À partir de 265€   \n",
       "76   https://www.cabanes-de-france.com/partenaire/p...   À partir de 95€   \n",
       "\n",
       "     Departement Duration  \n",
       "102           33    <= 2h  \n",
       "103           33    <= 1h  \n",
       "63            33    <= 2h  \n",
       "50            33    <= 3h  \n",
       "76            33    <= 3h  "
      ]
     },
     "metadata": {},
     "output_type": "display_data"
    }
   ],
   "source": [
    "display(df_rando.info(),\n",
    "        df_rando.describe(),\n",
    "        df_rando.sample(5))"
   ]
  },
  {
   "cell_type": "code",
   "execution_count": 28,
   "metadata": {},
   "outputs": [],
   "source": [
    "def rangeD(distance):\n",
    "    if distance <= 6:\n",
    "        return \"<= 6km\"\n",
    "    elif distance <= 10:\n",
    "        return \"<= 10km\"\n",
    "    elif distance <= 15:\n",
    "        return \"<= 15km\"\n",
    "    else:\n",
    "        return \"> 15km\"\n",
    "    \n",
    "df_rando[\"Range\"] = df_rando[\"Distance\"].apply(lambda x: rangeD(x))\n"
   ]
  },
  {
   "cell_type": "code",
   "execution_count": 29,
   "metadata": {},
   "outputs": [],
   "source": [
    "X = df_rando[[\"Types\", \"Range\", \"Difficulty\", \"Duration\"]]\n",
    "\n",
    "Rando_folle = make_pipeline(OneHotEncoder(),\n",
    "                            NearestNeighbors(n_neighbors = 3))\n",
    " \n",
    "Rando_folle = Rando_folle.fit(X)"
   ]
  },
  {
   "cell_type": "code",
   "execution_count": 42,
   "metadata": {},
   "outputs": [
    {
     "data": {
      "text/html": [
       "<div>\n",
       "<style scoped>\n",
       "    .dataframe tbody tr th:only-of-type {\n",
       "        vertical-align: middle;\n",
       "    }\n",
       "\n",
       "    .dataframe tbody tr th {\n",
       "        vertical-align: top;\n",
       "    }\n",
       "\n",
       "    .dataframe thead th {\n",
       "        text-align: right;\n",
       "    }\n",
       "</style>\n",
       "<table border=\"1\" class=\"dataframe\">\n",
       "  <thead>\n",
       "    <tr style=\"text-align: right;\">\n",
       "      <th></th>\n",
       "      <th>Types</th>\n",
       "      <th>Range</th>\n",
       "      <th>Difficulty</th>\n",
       "      <th>Duration</th>\n",
       "    </tr>\n",
       "  </thead>\n",
       "  <tbody>\n",
       "    <tr>\n",
       "      <th>0</th>\n",
       "      <td>à pied</td>\n",
       "      <td>&lt;= 15km</td>\n",
       "      <td>Moyenne</td>\n",
       "      <td>&lt;= 8h</td>\n",
       "    </tr>\n",
       "  </tbody>\n",
       "</table>\n",
       "</div>"
      ],
      "text/plain": [
       "    Types    Range Difficulty Duration\n",
       "0  à pied  <= 15km    Moyenne    <= 8h"
      ]
     },
     "execution_count": 42,
     "metadata": {},
     "output_type": "execute_result"
    }
   ],
   "source": [
    "UserPref = pd.DataFrame({\"Types\": [\"à pied\"],\n",
    "                         \"Range\": [\"<= 15km\"],\n",
    "                         \"Difficulty\": [\"Moyenne\"],\n",
    "                         \"Duration\": [\"<= 8h\"]})\n",
    "UserPref"
   ]
  },
  {
   "cell_type": "code",
   "execution_count": 44,
   "metadata": {},
   "outputs": [
    {
     "ename": "TypeError",
     "evalue": "'Pipeline' object is not callable",
     "output_type": "error",
     "traceback": [
      "\u001b[1;31m---------------------------------------------------------------------------\u001b[0m",
      "\u001b[1;31mTypeError\u001b[0m                                 Traceback (most recent call last)",
      "Cell \u001b[1;32mIn[44], line 1\u001b[0m\n\u001b[1;32m----> 1\u001b[0m closestR \u001b[38;5;241m=\u001b[39m \u001b[43mRando_folle\u001b[49m\u001b[43m(\u001b[49m\u001b[43m)\u001b[49m\n",
      "\u001b[1;31mTypeError\u001b[0m: 'Pipeline' object is not callable"
     ]
    }
   ],
   "source": [
    "closestR = Rando_folle.NearestNeighbors(UserPref, X.columns)\n"
   ]
  }
 ],
 "metadata": {
  "kernelspec": {
   "display_name": "Python 3",
   "language": "python",
   "name": "python3"
  },
  "language_info": {
   "codemirror_mode": {
    "name": "ipython",
    "version": 3
   },
   "file_extension": ".py",
   "mimetype": "text/x-python",
   "name": "python",
   "nbconvert_exporter": "python",
   "pygments_lexer": "ipython3",
   "version": "3.11.8"
  }
 },
 "nbformat": 4,
 "nbformat_minor": 2
}
